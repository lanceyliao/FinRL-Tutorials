{
 "nbformat": 4,
 "nbformat_minor": 0,
 "metadata": {
  "colab": {
   "provenance": []
  },
  "kernelspec": {
   "name": "python3",
   "display_name": "Python 3 (ipykernel)",
   "language": "python"
  },
  "language_info": {
   "name": "python"
  }
 },
 "cells": [
  {
   "cell_type": "markdown",
   "source": [
    "# Stock NeurIPS2018 Part 1. Data\n",
    "This series is a reproduction of paper *the process in the paper Practical Deep Reinforcement Learning Approach for Stock Trading*. \n",
    "\n",
    "This is the first part of the NeurIPS2018 series, introducing how to use FinRL to fetch and process data that we need for ML/RL trading.\n",
    "\n",
    "Other demos can be found at the repo of [FinRL-Tutorials]((https://github.com/AI4Finance-Foundation/FinRL-Tutorials))."
   ],
   "metadata": {
    "id": "Sy8r7_g5WjAT"
   }
  },
  {
   "cell_type": "markdown",
   "source": [
    "# Part 1. Install Packages"
   ],
   "metadata": {
    "id": "2uH1KXctgnoJ"
   }
  },
  {
   "cell_type": "code",
   "metadata": {
    "id": "a2oD49e_N_05",
    "ExecuteTime": {
     "end_time": "2024-08-26T08:32:20.726329Z",
     "start_time": "2024-08-26T08:30:55.682230Z"
    }
   },
   "source": [
    "## install required packages\n",
    "!pip install swig\n",
    "!pip install wrds\n",
    "!pip install pyportfolioopt\n",
    "## install finrl library\n",
    "!pip install git+https://github.com/AI4Finance-Foundation/FinRL.git -U"
   ],
   "outputs": [
    {
     "name": "stdout",
     "output_type": "stream",
     "text": [
      "Requirement already satisfied: swig in s:\\envs\\frlenv\\lib\\site-packages (4.2.1)\n",
      "Requirement already satisfied: wrds in s:\\envs\\frlenv\\lib\\site-packages (3.2.0)\n",
      "Requirement already satisfied: numpy<1.27,>=1.26 in s:\\envs\\frlenv\\lib\\site-packages (from wrds) (1.26.4)\n",
      "Requirement already satisfied: packaging<23.3 in s:\\envs\\frlenv\\lib\\site-packages (from wrds) (23.2)\n",
      "Requirement already satisfied: pandas<2.3,>=2.2 in s:\\envs\\frlenv\\lib\\site-packages (from wrds) (2.2.2)\n",
      "Requirement already satisfied: psycopg2-binary<2.10,>=2.9 in s:\\envs\\frlenv\\lib\\site-packages (from wrds) (2.9.9)\n",
      "Requirement already satisfied: scipy<1.13,>=1.12 in s:\\envs\\frlenv\\lib\\site-packages (from wrds) (1.12.0)\n",
      "Requirement already satisfied: sqlalchemy<2.1,>=2 in s:\\envs\\frlenv\\lib\\site-packages (from wrds) (2.0.30)\n",
      "Requirement already satisfied: python-dateutil>=2.8.2 in c:\\users\\admin\\appdata\\roaming\\python\\python310\\site-packages (from pandas<2.3,>=2.2->wrds) (2.8.2)\n",
      "Requirement already satisfied: pytz>=2020.1 in s:\\envs\\frlenv\\lib\\site-packages (from pandas<2.3,>=2.2->wrds) (2024.1)\n",
      "Requirement already satisfied: tzdata>=2022.7 in s:\\envs\\frlenv\\lib\\site-packages (from pandas<2.3,>=2.2->wrds) (2024.1)\n",
      "Requirement already satisfied: typing-extensions>=4.6.0 in s:\\envs\\frlenv\\lib\\site-packages (from sqlalchemy<2.1,>=2->wrds) (4.11.0)\n",
      "Requirement already satisfied: greenlet!=0.4.17 in s:\\envs\\frlenv\\lib\\site-packages (from sqlalchemy<2.1,>=2->wrds) (3.0.3)\n",
      "Requirement already satisfied: six>=1.5 in c:\\users\\admin\\appdata\\roaming\\python\\python310\\site-packages (from python-dateutil>=2.8.2->pandas<2.3,>=2.2->wrds) (1.16.0)\n",
      "Requirement already satisfied: pyportfolioopt in s:\\envs\\frlenv\\lib\\site-packages (1.5.5)\n",
      "Requirement already satisfied: cvxpy<2.0.0,>=1.1.19 in s:\\envs\\frlenv\\lib\\site-packages (from pyportfolioopt) (1.5.1)\n",
      "Requirement already satisfied: numpy<2.0.0,>=1.22.4 in s:\\envs\\frlenv\\lib\\site-packages (from pyportfolioopt) (1.26.4)\n",
      "Requirement already satisfied: pandas>=0.19 in s:\\envs\\frlenv\\lib\\site-packages (from pyportfolioopt) (2.2.2)\n",
      "Requirement already satisfied: scipy<2.0,>=1.3 in s:\\envs\\frlenv\\lib\\site-packages (from pyportfolioopt) (1.12.0)\n",
      "Requirement already satisfied: osqp>=0.6.2 in s:\\envs\\frlenv\\lib\\site-packages (from cvxpy<2.0.0,>=1.1.19->pyportfolioopt) (0.6.4)\n",
      "Requirement already satisfied: ecos>=2 in s:\\envs\\frlenv\\lib\\site-packages (from cvxpy<2.0.0,>=1.1.19->pyportfolioopt) (2.0.13)\n",
      "Requirement already satisfied: clarabel>=0.5.0 in s:\\envs\\frlenv\\lib\\site-packages (from cvxpy<2.0.0,>=1.1.19->pyportfolioopt) (0.9.0)\n",
      "Requirement already satisfied: scs>=3.2.4.post1 in s:\\envs\\frlenv\\lib\\site-packages (from cvxpy<2.0.0,>=1.1.19->pyportfolioopt) (3.2.4.post2)\n",
      "Requirement already satisfied: python-dateutil>=2.8.2 in c:\\users\\admin\\appdata\\roaming\\python\\python310\\site-packages (from pandas>=0.19->pyportfolioopt) (2.8.2)\n",
      "Requirement already satisfied: pytz>=2020.1 in s:\\envs\\frlenv\\lib\\site-packages (from pandas>=0.19->pyportfolioopt) (2024.1)\n",
      "Requirement already satisfied: tzdata>=2022.7 in s:\\envs\\frlenv\\lib\\site-packages (from pandas>=0.19->pyportfolioopt) (2024.1)\n",
      "Requirement already satisfied: qdldl in s:\\envs\\frlenv\\lib\\site-packages (from osqp>=0.6.2->cvxpy<2.0.0,>=1.1.19->pyportfolioopt) (0.1.7.post2)\n",
      "Requirement already satisfied: six>=1.5 in c:\\users\\admin\\appdata\\roaming\\python\\python310\\site-packages (from python-dateutil>=2.8.2->pandas>=0.19->pyportfolioopt) (1.16.0)\n",
      "Collecting git+https://github.com/AI4Finance-Foundation/FinRL.git\n",
      "  Cloning https://github.com/AI4Finance-Foundation/FinRL.git to c:\\users\\admin\\appdata\\local\\temp\\pip-req-build-bigbr1_i\n",
      "  Resolved https://github.com/AI4Finance-Foundation/FinRL.git to commit 6156c42121c21fa153722c9bbf4deef3f8f79a79\n",
      "  Installing build dependencies: started\n",
      "  Installing build dependencies: finished with status 'done'\n",
      "  Getting requirements to build wheel: started\n",
      "  Getting requirements to build wheel: finished with status 'done'\n",
      "  Preparing metadata (pyproject.toml): started\n",
      "  Preparing metadata (pyproject.toml): finished with status 'done'\n",
      "Collecting elegantrl@ git+https://github.com/AI4Finance-Foundation/ElegantRL.git#egg=elegantrl (from finrl==0.3.6)\n",
      "  Cloning https://github.com/AI4Finance-Foundation/ElegantRL.git to c:\\users\\admin\\appdata\\local\\temp\\pip-install-5pj2hypt\\elegantrl_06e6684c566d4f78b113b277ec4c3414\n",
      "  Resolved https://github.com/AI4Finance-Foundation/ElegantRL.git to commit f7022f2b059dd3ae209e120821d8a12829f438e4\n",
      "  Preparing metadata (setup.py): started\n",
      "  Preparing metadata (setup.py): finished with status 'done'\n",
      "Requirement already satisfied: alpaca-trade-api<4,>=3 in s:\\envs\\frlenv\\lib\\site-packages (from finrl==0.3.6) (3.2.0)\n",
      "Requirement already satisfied: ccxt<4,>=3 in s:\\envs\\frlenv\\lib\\site-packages (from finrl==0.3.6) (3.1.60)\n",
      "Requirement already satisfied: exchange-calendars<5,>=4 in s:\\envs\\frlenv\\lib\\site-packages (from finrl==0.3.6) (4.5.4)\n",
      "Requirement already satisfied: jqdatasdk<2,>=1 in s:\\envs\\frlenv\\lib\\site-packages (from finrl==0.3.6) (1.9.4)\n",
      "Requirement already satisfied: pyfolio<0.10,>=0.9 in s:\\envs\\frlenv\\lib\\site-packages (from finrl==0.3.6) (0.9.2)\n",
      "Requirement already satisfied: pyportfolioopt<2,>=1 in s:\\envs\\frlenv\\lib\\site-packages (from finrl==0.3.6) (1.5.5)\n",
      "Requirement already satisfied: ray<3,>=2 in s:\\envs\\frlenv\\lib\\site-packages (from ray[default,tune]<3,>=2->finrl==0.3.6) (2.20.0)\n",
      "Requirement already satisfied: scikit-learn<2,>=1 in s:\\envs\\frlenv\\lib\\site-packages (from finrl==0.3.6) (1.5.0)\n",
      "Requirement already satisfied: stable-baselines3>=2.0.0a5 in s:\\envs\\frlenv\\lib\\site-packages (from stable-baselines3[extra]>=2.0.0a5->finrl==0.3.6) (2.3.2)\n",
      "Requirement already satisfied: stockstats<0.6,>=0.5 in s:\\envs\\frlenv\\lib\\site-packages (from finrl==0.3.6) (0.5.4)\n",
      "Requirement already satisfied: wrds<4,>=3 in s:\\envs\\frlenv\\lib\\site-packages (from finrl==0.3.6) (3.2.0)\n",
      "Requirement already satisfied: yfinance<0.3,>=0.2 in s:\\envs\\frlenv\\lib\\site-packages (from finrl==0.3.6) (0.2.40)\n",
      "Requirement already satisfied: pandas>=0.18.1 in s:\\envs\\frlenv\\lib\\site-packages (from alpaca-trade-api<4,>=3->finrl==0.3.6) (2.2.2)\n",
      "Requirement already satisfied: numpy>=1.11.1 in s:\\envs\\frlenv\\lib\\site-packages (from alpaca-trade-api<4,>=3->finrl==0.3.6) (1.26.4)\n",
      "Requirement already satisfied: requests<3,>2 in s:\\envs\\frlenv\\lib\\site-packages (from alpaca-trade-api<4,>=3->finrl==0.3.6) (2.32.3)\n",
      "Requirement already satisfied: urllib3<2,>1.24 in s:\\envs\\frlenv\\lib\\site-packages (from alpaca-trade-api<4,>=3->finrl==0.3.6) (1.26.18)\n",
      "Requirement already satisfied: websocket-client<2,>=0.56.0 in s:\\envs\\frlenv\\lib\\site-packages (from alpaca-trade-api<4,>=3->finrl==0.3.6) (1.8.0)\n",
      "Requirement already satisfied: websockets<11,>=9.0 in s:\\envs\\frlenv\\lib\\site-packages (from alpaca-trade-api<4,>=3->finrl==0.3.6) (10.4)\n",
      "Requirement already satisfied: msgpack==1.0.3 in s:\\envs\\frlenv\\lib\\site-packages (from alpaca-trade-api<4,>=3->finrl==0.3.6) (1.0.3)\n",
      "Requirement already satisfied: aiohttp<4,>=3.8.3 in s:\\envs\\frlenv\\lib\\site-packages (from alpaca-trade-api<4,>=3->finrl==0.3.6) (3.9.5)\n",
      "Requirement already satisfied: PyYAML==6.0.1 in s:\\envs\\frlenv\\lib\\site-packages (from alpaca-trade-api<4,>=3->finrl==0.3.6) (6.0.1)\n",
      "Requirement already satisfied: deprecation==2.1.0 in s:\\envs\\frlenv\\lib\\site-packages (from alpaca-trade-api<4,>=3->finrl==0.3.6) (2.1.0)\n",
      "Requirement already satisfied: packaging in s:\\envs\\frlenv\\lib\\site-packages (from deprecation==2.1.0->alpaca-trade-api<4,>=3->finrl==0.3.6) (23.2)\n",
      "Requirement already satisfied: setuptools>=60.9.0 in s:\\envs\\frlenv\\lib\\site-packages (from ccxt<4,>=3->finrl==0.3.6) (70.0.0)\n",
      "Requirement already satisfied: certifi>=2018.1.18 in s:\\envs\\frlenv\\lib\\site-packages (from ccxt<4,>=3->finrl==0.3.6) (2024.6.2)\n",
      "Requirement already satisfied: cryptography>=2.6.1 in s:\\envs\\frlenv\\lib\\site-packages (from ccxt<4,>=3->finrl==0.3.6) (42.0.7)\n",
      "Requirement already satisfied: aiodns>=1.1.1 in s:\\envs\\frlenv\\lib\\site-packages (from ccxt<4,>=3->finrl==0.3.6) (3.2.0)\n",
      "Requirement already satisfied: yarl>=1.7.2 in s:\\envs\\frlenv\\lib\\site-packages (from ccxt<4,>=3->finrl==0.3.6) (1.9.4)\n",
      "Requirement already satisfied: pyluach in s:\\envs\\frlenv\\lib\\site-packages (from exchange-calendars<5,>=4->finrl==0.3.6) (2.2.0)\n",
      "Requirement already satisfied: toolz in s:\\envs\\frlenv\\lib\\site-packages (from exchange-calendars<5,>=4->finrl==0.3.6) (0.12.1)\n",
      "Requirement already satisfied: tzdata in s:\\envs\\frlenv\\lib\\site-packages (from exchange-calendars<5,>=4->finrl==0.3.6) (2024.1)\n",
      "Requirement already satisfied: korean-lunar-calendar in s:\\envs\\frlenv\\lib\\site-packages (from exchange-calendars<5,>=4->finrl==0.3.6) (0.3.1)\n",
      "Requirement already satisfied: six in c:\\users\\admin\\appdata\\roaming\\python\\python310\\site-packages (from jqdatasdk<2,>=1->finrl==0.3.6) (1.16.0)\n",
      "Requirement already satisfied: SQLAlchemy>=1.2.8 in s:\\envs\\frlenv\\lib\\site-packages (from jqdatasdk<2,>=1->finrl==0.3.6) (2.0.30)\n",
      "Requirement already satisfied: thriftpy2>=0.3.9 in s:\\envs\\frlenv\\lib\\site-packages (from jqdatasdk<2,>=1->finrl==0.3.6) (0.5.0)\n",
      "Requirement already satisfied: pymysql>=0.7.6 in s:\\envs\\frlenv\\lib\\site-packages (from jqdatasdk<2,>=1->finrl==0.3.6) (1.1.1)\n",
      "Requirement already satisfied: ipython>=3.2.3 in s:\\envs\\frlenv\\lib\\site-packages (from pyfolio<0.10,>=0.9->finrl==0.3.6) (8.25.0)\n",
      "Requirement already satisfied: matplotlib>=1.4.0 in s:\\envs\\frlenv\\lib\\site-packages (from pyfolio<0.10,>=0.9->finrl==0.3.6) (3.9.0)\n",
      "Requirement already satisfied: pytz>=2014.10 in s:\\envs\\frlenv\\lib\\site-packages (from pyfolio<0.10,>=0.9->finrl==0.3.6) (2024.1)\n",
      "Requirement already satisfied: scipy>=0.14.0 in s:\\envs\\frlenv\\lib\\site-packages (from pyfolio<0.10,>=0.9->finrl==0.3.6) (1.12.0)\n",
      "Requirement already satisfied: seaborn>=0.7.1 in s:\\envs\\frlenv\\lib\\site-packages (from pyfolio<0.10,>=0.9->finrl==0.3.6) (0.13.2)\n",
      "Requirement already satisfied: empyrical>=0.5.0 in s:\\envs\\frlenv\\lib\\site-packages (from pyfolio<0.10,>=0.9->finrl==0.3.6) (0.5.5)\n",
      "Requirement already satisfied: cvxpy<2.0.0,>=1.1.19 in s:\\envs\\frlenv\\lib\\site-packages (from pyportfolioopt<2,>=1->finrl==0.3.6) (1.5.1)\n",
      "Requirement already satisfied: click>=7.0 in s:\\envs\\frlenv\\lib\\site-packages (from ray<3,>=2->ray[default,tune]<3,>=2->finrl==0.3.6) (8.1.7)\n",
      "Requirement already satisfied: filelock in s:\\envs\\frlenv\\lib\\site-packages (from ray<3,>=2->ray[default,tune]<3,>=2->finrl==0.3.6) (3.13.1)\n",
      "Requirement already satisfied: jsonschema in s:\\envs\\frlenv\\lib\\site-packages (from ray<3,>=2->ray[default,tune]<3,>=2->finrl==0.3.6) (4.22.0)\n",
      "Requirement already satisfied: protobuf!=3.19.5,>=3.15.3 in s:\\envs\\frlenv\\lib\\site-packages (from ray<3,>=2->ray[default,tune]<3,>=2->finrl==0.3.6) (4.25.3)\n",
      "Requirement already satisfied: aiosignal in s:\\envs\\frlenv\\lib\\site-packages (from ray<3,>=2->ray[default,tune]<3,>=2->finrl==0.3.6) (1.3.1)\n",
      "Requirement already satisfied: frozenlist in s:\\envs\\frlenv\\lib\\site-packages (from ray<3,>=2->ray[default,tune]<3,>=2->finrl==0.3.6) (1.4.1)\n",
      "Requirement already satisfied: tensorboardX>=1.9 in s:\\envs\\frlenv\\lib\\site-packages (from ray[default,tune]<3,>=2->finrl==0.3.6) (2.6.2.2)\n",
      "Requirement already satisfied: pyarrow>=6.0.1 in s:\\envs\\frlenv\\lib\\site-packages (from ray[default,tune]<3,>=2->finrl==0.3.6) (16.1.0)\n",
      "Requirement already satisfied: fsspec in s:\\envs\\frlenv\\lib\\site-packages (from ray[default,tune]<3,>=2->finrl==0.3.6) (2024.5.0)\n",
      "Requirement already satisfied: aiohttp-cors in s:\\envs\\frlenv\\lib\\site-packages (from ray[default,tune]<3,>=2->finrl==0.3.6) (0.7.0)\n",
      "Requirement already satisfied: colorful in s:\\envs\\frlenv\\lib\\site-packages (from ray[default,tune]<3,>=2->finrl==0.3.6) (0.5.6)\n",
      "Requirement already satisfied: py-spy>=0.2.0 in s:\\envs\\frlenv\\lib\\site-packages (from ray[default,tune]<3,>=2->finrl==0.3.6) (0.3.14)\n",
      "Requirement already satisfied: opencensus in s:\\envs\\frlenv\\lib\\site-packages (from ray[default,tune]<3,>=2->finrl==0.3.6) (0.11.4)\n",
      "Requirement already satisfied: pydantic!=2.0.*,!=2.1.*,!=2.2.*,!=2.3.*,!=2.4.*,<3 in s:\\envs\\frlenv\\lib\\site-packages (from ray[default,tune]<3,>=2->finrl==0.3.6) (2.7.2)\n",
      "Requirement already satisfied: prometheus-client>=0.7.1 in s:\\envs\\frlenv\\lib\\site-packages (from ray[default,tune]<3,>=2->finrl==0.3.6) (0.20.0)\n",
      "Requirement already satisfied: smart-open in s:\\envs\\frlenv\\lib\\site-packages (from ray[default,tune]<3,>=2->finrl==0.3.6) (7.0.4)\n",
      "Requirement already satisfied: virtualenv!=20.21.1,>=20.0.24 in s:\\envs\\frlenv\\lib\\site-packages (from ray[default,tune]<3,>=2->finrl==0.3.6) (20.26.2)\n",
      "Requirement already satisfied: grpcio>=1.42.0 in c:\\users\\admin\\appdata\\roaming\\python\\python310\\site-packages (from ray[default,tune]<3,>=2->finrl==0.3.6) (1.59.3)\n",
      "Requirement already satisfied: joblib>=1.2.0 in s:\\envs\\frlenv\\lib\\site-packages (from scikit-learn<2,>=1->finrl==0.3.6) (1.4.2)\n",
      "Requirement already satisfied: threadpoolctl>=3.1.0 in s:\\envs\\frlenv\\lib\\site-packages (from scikit-learn<2,>=1->finrl==0.3.6) (3.5.0)\n",
      "Requirement already satisfied: gymnasium<0.30,>=0.28.1 in s:\\envs\\frlenv\\lib\\site-packages (from stable-baselines3>=2.0.0a5->stable-baselines3[extra]>=2.0.0a5->finrl==0.3.6) (0.29.1)\n",
      "Requirement already satisfied: torch>=1.13 in s:\\envs\\frlenv\\lib\\site-packages (from stable-baselines3>=2.0.0a5->stable-baselines3[extra]>=2.0.0a5->finrl==0.3.6) (2.3.0)\n",
      "Requirement already satisfied: cloudpickle in s:\\envs\\frlenv\\lib\\site-packages (from stable-baselines3>=2.0.0a5->stable-baselines3[extra]>=2.0.0a5->finrl==0.3.6) (3.0.0)\n",
      "Requirement already satisfied: opencv-python in s:\\envs\\frlenv\\lib\\site-packages (from stable-baselines3[extra]>=2.0.0a5->finrl==0.3.6) (4.9.0.80)\n",
      "Requirement already satisfied: pygame in s:\\envs\\frlenv\\lib\\site-packages (from stable-baselines3[extra]>=2.0.0a5->finrl==0.3.6) (2.1.0)\n",
      "Requirement already satisfied: tensorboard>=2.9.1 in s:\\envs\\frlenv\\lib\\site-packages (from stable-baselines3[extra]>=2.0.0a5->finrl==0.3.6) (2.16.2)\n",
      "Requirement already satisfied: psutil in s:\\envs\\frlenv\\lib\\site-packages (from stable-baselines3[extra]>=2.0.0a5->finrl==0.3.6) (5.9.8)\n",
      "Requirement already satisfied: tqdm in s:\\envs\\frlenv\\lib\\site-packages (from stable-baselines3[extra]>=2.0.0a5->finrl==0.3.6) (4.66.4)\n",
      "Requirement already satisfied: rich in s:\\envs\\frlenv\\lib\\site-packages (from stable-baselines3[extra]>=2.0.0a5->finrl==0.3.6) (13.7.1)\n",
      "Requirement already satisfied: shimmy~=1.3.0 in s:\\envs\\frlenv\\lib\\site-packages (from shimmy[atari]~=1.3.0; extra == \"extra\"->stable-baselines3[extra]>=2.0.0a5->finrl==0.3.6) (1.3.0)\n",
      "Requirement already satisfied: pillow in s:\\envs\\frlenv\\lib\\site-packages (from stable-baselines3[extra]>=2.0.0a5->finrl==0.3.6) (10.3.0)\n",
      "Requirement already satisfied: autorom~=0.6.1 in s:\\envs\\frlenv\\lib\\site-packages (from autorom[accept-rom-license]~=0.6.1; extra == \"extra\"->stable-baselines3[extra]>=2.0.0a5->finrl==0.3.6) (0.6.1)\n",
      "Requirement already satisfied: psycopg2-binary<2.10,>=2.9 in s:\\envs\\frlenv\\lib\\site-packages (from wrds<4,>=3->finrl==0.3.6) (2.9.9)\n",
      "Requirement already satisfied: multitasking>=0.0.7 in s:\\envs\\frlenv\\lib\\site-packages (from yfinance<0.3,>=0.2->finrl==0.3.6) (0.0.11)\n",
      "Requirement already satisfied: lxml>=4.9.1 in s:\\envs\\frlenv\\lib\\site-packages (from yfinance<0.3,>=0.2->finrl==0.3.6) (5.2.2)\n",
      "Requirement already satisfied: platformdirs>=2.0.0 in s:\\envs\\frlenv\\lib\\site-packages (from yfinance<0.3,>=0.2->finrl==0.3.6) (4.2.2)\n",
      "Requirement already satisfied: frozendict>=2.3.4 in s:\\envs\\frlenv\\lib\\site-packages (from yfinance<0.3,>=0.2->finrl==0.3.6) (2.4.4)\n",
      "Requirement already satisfied: peewee>=3.16.2 in s:\\envs\\frlenv\\lib\\site-packages (from yfinance<0.3,>=0.2->finrl==0.3.6) (3.17.3)\n",
      "Requirement already satisfied: beautifulsoup4>=4.11.1 in s:\\envs\\frlenv\\lib\\site-packages (from yfinance<0.3,>=0.2->finrl==0.3.6) (4.12.3)\n",
      "Requirement already satisfied: html5lib>=1.1 in s:\\envs\\frlenv\\lib\\site-packages (from yfinance<0.3,>=0.2->finrl==0.3.6) (1.1)\n",
      "Requirement already satisfied: th in s:\\envs\\frlenv\\lib\\site-packages (from elegantrl@ git+https://github.com/AI4Finance-Foundation/ElegantRL.git#egg=elegantrl->finrl==0.3.6) (0.3.4)\n",
      "Requirement already satisfied: gym in s:\\envs\\frlenv\\lib\\site-packages (from elegantrl@ git+https://github.com/AI4Finance-Foundation/ElegantRL.git#egg=elegantrl->finrl==0.3.6) (0.26.2)\n",
      "Requirement already satisfied: pycares>=4.0.0 in s:\\envs\\frlenv\\lib\\site-packages (from aiodns>=1.1.1->ccxt<4,>=3->finrl==0.3.6) (4.4.0)\n",
      "Requirement already satisfied: attrs>=17.3.0 in s:\\envs\\frlenv\\lib\\site-packages (from aiohttp<4,>=3.8.3->alpaca-trade-api<4,>=3->finrl==0.3.6) (23.2.0)\n",
      "Requirement already satisfied: multidict<7.0,>=4.5 in s:\\envs\\frlenv\\lib\\site-packages (from aiohttp<4,>=3.8.3->alpaca-trade-api<4,>=3->finrl==0.3.6) (6.0.5)\n",
      "Requirement already satisfied: async-timeout<5.0,>=4.0 in s:\\envs\\frlenv\\lib\\site-packages (from aiohttp<4,>=3.8.3->alpaca-trade-api<4,>=3->finrl==0.3.6) (4.0.3)\n",
      "Requirement already satisfied: AutoROM.accept-rom-license in s:\\envs\\frlenv\\lib\\site-packages (from autorom[accept-rom-license]~=0.6.1; extra == \"extra\"->stable-baselines3[extra]>=2.0.0a5->finrl==0.3.6) (0.6.1)\n",
      "Requirement already satisfied: soupsieve>1.2 in s:\\envs\\frlenv\\lib\\site-packages (from beautifulsoup4>=4.11.1->yfinance<0.3,>=0.2->finrl==0.3.6) (2.5)\n",
      "Requirement already satisfied: colorama in s:\\envs\\frlenv\\lib\\site-packages (from click>=7.0->ray<3,>=2->ray[default,tune]<3,>=2->finrl==0.3.6) (0.4.6)\n",
      "Requirement already satisfied: cffi>=1.12 in s:\\envs\\frlenv\\lib\\site-packages (from cryptography>=2.6.1->ccxt<4,>=3->finrl==0.3.6) (1.16.0)\n",
      "Requirement already satisfied: osqp>=0.6.2 in s:\\envs\\frlenv\\lib\\site-packages (from cvxpy<2.0.0,>=1.1.19->pyportfolioopt<2,>=1->finrl==0.3.6) (0.6.4)\n",
      "Requirement already satisfied: ecos>=2 in s:\\envs\\frlenv\\lib\\site-packages (from cvxpy<2.0.0,>=1.1.19->pyportfolioopt<2,>=1->finrl==0.3.6) (2.0.13)\n",
      "Requirement already satisfied: clarabel>=0.5.0 in s:\\envs\\frlenv\\lib\\site-packages (from cvxpy<2.0.0,>=1.1.19->pyportfolioopt<2,>=1->finrl==0.3.6) (0.9.0)\n",
      "Requirement already satisfied: scs>=3.2.4.post1 in s:\\envs\\frlenv\\lib\\site-packages (from cvxpy<2.0.0,>=1.1.19->pyportfolioopt<2,>=1->finrl==0.3.6) (3.2.4.post2)\n",
      "Requirement already satisfied: pandas-datareader>=0.2 in s:\\envs\\frlenv\\lib\\site-packages (from empyrical>=0.5.0->pyfolio<0.10,>=0.9->finrl==0.3.6) (0.10.0)\n",
      "Requirement already satisfied: typing-extensions>=4.3.0 in s:\\envs\\frlenv\\lib\\site-packages (from gymnasium<0.30,>=0.28.1->stable-baselines3>=2.0.0a5->stable-baselines3[extra]>=2.0.0a5->finrl==0.3.6) (4.11.0)\n",
      "Requirement already satisfied: farama-notifications>=0.0.1 in s:\\envs\\frlenv\\lib\\site-packages (from gymnasium<0.30,>=0.28.1->stable-baselines3>=2.0.0a5->stable-baselines3[extra]>=2.0.0a5->finrl==0.3.6) (0.0.4)\n",
      "Requirement already satisfied: webencodings in s:\\envs\\frlenv\\lib\\site-packages (from html5lib>=1.1->yfinance<0.3,>=0.2->finrl==0.3.6) (0.5.1)\n",
      "Requirement already satisfied: decorator in s:\\envs\\frlenv\\lib\\site-packages (from ipython>=3.2.3->pyfolio<0.10,>=0.9->finrl==0.3.6) (5.1.1)\n",
      "Requirement already satisfied: jedi>=0.16 in s:\\envs\\frlenv\\lib\\site-packages (from ipython>=3.2.3->pyfolio<0.10,>=0.9->finrl==0.3.6) (0.19.1)\n",
      "Requirement already satisfied: matplotlib-inline in s:\\envs\\frlenv\\lib\\site-packages (from ipython>=3.2.3->pyfolio<0.10,>=0.9->finrl==0.3.6) (0.1.7)\n",
      "Requirement already satisfied: prompt-toolkit<3.1.0,>=3.0.41 in s:\\envs\\frlenv\\lib\\site-packages (from ipython>=3.2.3->pyfolio<0.10,>=0.9->finrl==0.3.6) (3.0.45)\n",
      "Requirement already satisfied: pygments>=2.4.0 in s:\\envs\\frlenv\\lib\\site-packages (from ipython>=3.2.3->pyfolio<0.10,>=0.9->finrl==0.3.6) (2.18.0)\n",
      "Requirement already satisfied: stack-data in s:\\envs\\frlenv\\lib\\site-packages (from ipython>=3.2.3->pyfolio<0.10,>=0.9->finrl==0.3.6) (0.6.3)\n",
      "Requirement already satisfied: traitlets>=5.13.0 in s:\\envs\\frlenv\\lib\\site-packages (from ipython>=3.2.3->pyfolio<0.10,>=0.9->finrl==0.3.6) (5.14.3)\n",
      "Requirement already satisfied: exceptiongroup in s:\\envs\\frlenv\\lib\\site-packages (from ipython>=3.2.3->pyfolio<0.10,>=0.9->finrl==0.3.6) (1.2.1)\n",
      "Requirement already satisfied: contourpy>=1.0.1 in s:\\envs\\frlenv\\lib\\site-packages (from matplotlib>=1.4.0->pyfolio<0.10,>=0.9->finrl==0.3.6) (1.2.1)\n",
      "Requirement already satisfied: cycler>=0.10 in s:\\envs\\frlenv\\lib\\site-packages (from matplotlib>=1.4.0->pyfolio<0.10,>=0.9->finrl==0.3.6) (0.12.1)\n",
      "Requirement already satisfied: fonttools>=4.22.0 in s:\\envs\\frlenv\\lib\\site-packages (from matplotlib>=1.4.0->pyfolio<0.10,>=0.9->finrl==0.3.6) (4.53.0)\n",
      "Requirement already satisfied: kiwisolver>=1.3.1 in s:\\envs\\frlenv\\lib\\site-packages (from matplotlib>=1.4.0->pyfolio<0.10,>=0.9->finrl==0.3.6) (1.4.5)\n",
      "Requirement already satisfied: pyparsing>=2.3.1 in s:\\envs\\frlenv\\lib\\site-packages (from matplotlib>=1.4.0->pyfolio<0.10,>=0.9->finrl==0.3.6) (3.1.2)\n",
      "Requirement already satisfied: python-dateutil>=2.7 in c:\\users\\admin\\appdata\\roaming\\python\\python310\\site-packages (from matplotlib>=1.4.0->pyfolio<0.10,>=0.9->finrl==0.3.6) (2.8.2)\n",
      "Requirement already satisfied: annotated-types>=0.4.0 in s:\\envs\\frlenv\\lib\\site-packages (from pydantic!=2.0.*,!=2.1.*,!=2.2.*,!=2.3.*,!=2.4.*,<3->ray[default,tune]<3,>=2->finrl==0.3.6) (0.7.0)\n",
      "Requirement already satisfied: pydantic-core==2.18.3 in s:\\envs\\frlenv\\lib\\site-packages (from pydantic!=2.0.*,!=2.1.*,!=2.2.*,!=2.3.*,!=2.4.*,<3->ray[default,tune]<3,>=2->finrl==0.3.6) (2.18.3)\n",
      "Requirement already satisfied: charset-normalizer<4,>=2 in s:\\envs\\frlenv\\lib\\site-packages (from requests<3,>2->alpaca-trade-api<4,>=3->finrl==0.3.6) (3.3.2)\n",
      "Requirement already satisfied: idna<4,>=2.5 in s:\\envs\\frlenv\\lib\\site-packages (from requests<3,>2->alpaca-trade-api<4,>=3->finrl==0.3.6) (3.7)\n",
      "Requirement already satisfied: ale-py~=0.8.1 in s:\\envs\\frlenv\\lib\\site-packages (from shimmy[atari]~=1.3.0; extra == \"extra\"->stable-baselines3[extra]>=2.0.0a5->finrl==0.3.6) (0.8.1)\n",
      "Requirement already satisfied: greenlet!=0.4.17 in s:\\envs\\frlenv\\lib\\site-packages (from SQLAlchemy>=1.2.8->jqdatasdk<2,>=1->finrl==0.3.6) (3.0.3)\n",
      "Requirement already satisfied: absl-py>=0.4 in s:\\envs\\frlenv\\lib\\site-packages (from tensorboard>=2.9.1->stable-baselines3[extra]>=2.0.0a5->finrl==0.3.6) (2.1.0)\n",
      "Requirement already satisfied: markdown>=2.6.8 in s:\\envs\\frlenv\\lib\\site-packages (from tensorboard>=2.9.1->stable-baselines3[extra]>=2.0.0a5->finrl==0.3.6) (3.6)\n",
      "Requirement already satisfied: tensorboard-data-server<0.8.0,>=0.7.0 in s:\\envs\\frlenv\\lib\\site-packages (from tensorboard>=2.9.1->stable-baselines3[extra]>=2.0.0a5->finrl==0.3.6) (0.7.2)\n",
      "Requirement already satisfied: werkzeug>=1.0.1 in s:\\envs\\frlenv\\lib\\site-packages (from tensorboard>=2.9.1->stable-baselines3[extra]>=2.0.0a5->finrl==0.3.6) (3.0.3)\n",
      "Requirement already satisfied: ply<4.0,>=3.4 in s:\\envs\\frlenv\\lib\\site-packages (from thriftpy2>=0.3.9->jqdatasdk<2,>=1->finrl==0.3.6) (3.11)\n",
      "Requirement already satisfied: sympy in s:\\envs\\frlenv\\lib\\site-packages (from torch>=1.13->stable-baselines3>=2.0.0a5->stable-baselines3[extra]>=2.0.0a5->finrl==0.3.6) (1.12.1)\n",
      "Requirement already satisfied: networkx in s:\\envs\\frlenv\\lib\\site-packages (from torch>=1.13->stable-baselines3>=2.0.0a5->stable-baselines3[extra]>=2.0.0a5->finrl==0.3.6) (3.3)\n",
      "Requirement already satisfied: jinja2 in s:\\envs\\frlenv\\lib\\site-packages (from torch>=1.13->stable-baselines3>=2.0.0a5->stable-baselines3[extra]>=2.0.0a5->finrl==0.3.6) (3.1.4)\n",
      "Requirement already satisfied: mkl<=2021.4.0,>=2021.1.1 in s:\\envs\\frlenv\\lib\\site-packages (from torch>=1.13->stable-baselines3>=2.0.0a5->stable-baselines3[extra]>=2.0.0a5->finrl==0.3.6) (2021.4.0)\n",
      "Requirement already satisfied: distlib<1,>=0.3.7 in s:\\envs\\frlenv\\lib\\site-packages (from virtualenv!=20.21.1,>=20.0.24->ray[default,tune]<3,>=2->finrl==0.3.6) (0.3.8)\n",
      "Requirement already satisfied: gym-notices>=0.0.4 in s:\\envs\\frlenv\\lib\\site-packages (from gym->elegantrl@ git+https://github.com/AI4Finance-Foundation/ElegantRL.git#egg=elegantrl->finrl==0.3.6) (0.0.8)\n",
      "Requirement already satisfied: box2d-py==2.3.5 in s:\\envs\\frlenv\\lib\\site-packages (from gym[box2d]->elegantrl@ git+https://github.com/AI4Finance-Foundation/ElegantRL.git#egg=elegantrl->finrl==0.3.6) (2.3.5)\n",
      "Requirement already satisfied: swig==4.* in s:\\envs\\frlenv\\lib\\site-packages (from gym[box2d]->elegantrl@ git+https://github.com/AI4Finance-Foundation/ElegantRL.git#egg=elegantrl->finrl==0.3.6) (4.2.1)\n",
      "Requirement already satisfied: jsonschema-specifications>=2023.03.6 in s:\\envs\\frlenv\\lib\\site-packages (from jsonschema->ray<3,>=2->ray[default,tune]<3,>=2->finrl==0.3.6) (2023.12.1)\n",
      "Requirement already satisfied: referencing>=0.28.4 in s:\\envs\\frlenv\\lib\\site-packages (from jsonschema->ray<3,>=2->ray[default,tune]<3,>=2->finrl==0.3.6) (0.35.1)\n",
      "Requirement already satisfied: rpds-py>=0.7.1 in s:\\envs\\frlenv\\lib\\site-packages (from jsonschema->ray<3,>=2->ray[default,tune]<3,>=2->finrl==0.3.6) (0.18.1)\n",
      "Requirement already satisfied: opencensus-context>=0.1.3 in s:\\envs\\frlenv\\lib\\site-packages (from opencensus->ray[default,tune]<3,>=2->finrl==0.3.6) (0.1.3)\n",
      "Requirement already satisfied: google-api-core<3.0.0,>=1.0.0 in s:\\envs\\frlenv\\lib\\site-packages (from opencensus->ray[default,tune]<3,>=2->finrl==0.3.6) (2.19.0)\n",
      "Requirement already satisfied: markdown-it-py>=2.2.0 in s:\\envs\\frlenv\\lib\\site-packages (from rich->stable-baselines3[extra]>=2.0.0a5->finrl==0.3.6) (3.0.0)\n",
      "Requirement already satisfied: wrapt in s:\\envs\\frlenv\\lib\\site-packages (from smart-open->ray[default,tune]<3,>=2->finrl==0.3.6) (1.16.0)\n",
      "Requirement already satisfied: niltype<1.0,>=0.3 in s:\\envs\\frlenv\\lib\\site-packages (from th->elegantrl@ git+https://github.com/AI4Finance-Foundation/ElegantRL.git#egg=elegantrl->finrl==0.3.6) (0.3.4)\n",
      "Requirement already satisfied: importlib-resources in s:\\envs\\frlenv\\lib\\site-packages (from ale-py~=0.8.1->shimmy[atari]~=1.3.0; extra == \"extra\"->stable-baselines3[extra]>=2.0.0a5->finrl==0.3.6) (6.4.0)\n",
      "Requirement already satisfied: pycparser in s:\\envs\\frlenv\\lib\\site-packages (from cffi>=1.12->cryptography>=2.6.1->ccxt<4,>=3->finrl==0.3.6) (2.22)\n",
      "Requirement already satisfied: googleapis-common-protos<2.0.dev0,>=1.56.2 in s:\\envs\\frlenv\\lib\\site-packages (from google-api-core<3.0.0,>=1.0.0->opencensus->ray[default,tune]<3,>=2->finrl==0.3.6) (1.63.0)\n",
      "Requirement already satisfied: proto-plus<2.0.0dev,>=1.22.3 in s:\\envs\\frlenv\\lib\\site-packages (from google-api-core<3.0.0,>=1.0.0->opencensus->ray[default,tune]<3,>=2->finrl==0.3.6) (1.23.0)\n",
      "Requirement already satisfied: google-auth<3.0.dev0,>=2.14.1 in c:\\users\\admin\\appdata\\roaming\\python\\python310\\site-packages (from google-api-core<3.0.0,>=1.0.0->opencensus->ray[default,tune]<3,>=2->finrl==0.3.6) (2.23.4)\n",
      "Requirement already satisfied: parso<0.9.0,>=0.8.3 in s:\\envs\\frlenv\\lib\\site-packages (from jedi>=0.16->ipython>=3.2.3->pyfolio<0.10,>=0.9->finrl==0.3.6) (0.8.4)\n",
      "Requirement already satisfied: mdurl~=0.1 in s:\\envs\\frlenv\\lib\\site-packages (from markdown-it-py>=2.2.0->rich->stable-baselines3[extra]>=2.0.0a5->finrl==0.3.6) (0.1.2)\n",
      "Requirement already satisfied: intel-openmp==2021.* in s:\\envs\\frlenv\\lib\\site-packages (from mkl<=2021.4.0,>=2021.1.1->torch>=1.13->stable-baselines3>=2.0.0a5->stable-baselines3[extra]>=2.0.0a5->finrl==0.3.6) (2021.4.0)\n",
      "Requirement already satisfied: tbb==2021.* in s:\\envs\\frlenv\\lib\\site-packages (from mkl<=2021.4.0,>=2021.1.1->torch>=1.13->stable-baselines3>=2.0.0a5->stable-baselines3[extra]>=2.0.0a5->finrl==0.3.6) (2021.12.0)\n",
      "Requirement already satisfied: qdldl in s:\\envs\\frlenv\\lib\\site-packages (from osqp>=0.6.2->cvxpy<2.0.0,>=1.1.19->pyportfolioopt<2,>=1->finrl==0.3.6) (0.1.7.post2)\n",
      "Requirement already satisfied: wcwidth in s:\\envs\\frlenv\\lib\\site-packages (from prompt-toolkit<3.1.0,>=3.0.41->ipython>=3.2.3->pyfolio<0.10,>=0.9->finrl==0.3.6) (0.2.13)\n",
      "Requirement already satisfied: MarkupSafe>=2.1.1 in s:\\envs\\frlenv\\lib\\site-packages (from werkzeug>=1.0.1->tensorboard>=2.9.1->stable-baselines3[extra]>=2.0.0a5->finrl==0.3.6) (2.1.3)\n",
      "Requirement already satisfied: executing>=1.2.0 in s:\\envs\\frlenv\\lib\\site-packages (from stack-data->ipython>=3.2.3->pyfolio<0.10,>=0.9->finrl==0.3.6) (2.0.1)\n",
      "Requirement already satisfied: asttokens>=2.1.0 in s:\\envs\\frlenv\\lib\\site-packages (from stack-data->ipython>=3.2.3->pyfolio<0.10,>=0.9->finrl==0.3.6) (2.4.1)\n",
      "Requirement already satisfied: pure-eval in s:\\envs\\frlenv\\lib\\site-packages (from stack-data->ipython>=3.2.3->pyfolio<0.10,>=0.9->finrl==0.3.6) (0.2.2)\n",
      "Requirement already satisfied: mpmath<1.4.0,>=1.1.0 in s:\\envs\\frlenv\\lib\\site-packages (from sympy->torch>=1.13->stable-baselines3>=2.0.0a5->stable-baselines3[extra]>=2.0.0a5->finrl==0.3.6) (1.3.0)\n",
      "Requirement already satisfied: cachetools<6.0,>=2.0.0 in s:\\envs\\frlenv\\lib\\site-packages (from google-auth<3.0.dev0,>=2.14.1->google-api-core<3.0.0,>=1.0.0->opencensus->ray[default,tune]<3,>=2->finrl==0.3.6) (5.3.3)\n",
      "Requirement already satisfied: pyasn1-modules>=0.2.1 in s:\\envs\\frlenv\\lib\\site-packages (from google-auth<3.0.dev0,>=2.14.1->google-api-core<3.0.0,>=1.0.0->opencensus->ray[default,tune]<3,>=2->finrl==0.3.6) (0.4.0)\n",
      "Requirement already satisfied: rsa<5,>=3.1.4 in s:\\envs\\frlenv\\lib\\site-packages (from google-auth<3.0.dev0,>=2.14.1->google-api-core<3.0.0,>=1.0.0->opencensus->ray[default,tune]<3,>=2->finrl==0.3.6) (4.9)\n",
      "Requirement already satisfied: pyasn1<0.7.0,>=0.4.6 in s:\\envs\\frlenv\\lib\\site-packages (from pyasn1-modules>=0.2.1->google-auth<3.0.dev0,>=2.14.1->google-api-core<3.0.0,>=1.0.0->opencensus->ray[default,tune]<3,>=2->finrl==0.3.6) (0.6.0)\n"
     ]
    },
    {
     "name": "stderr",
     "output_type": "stream",
     "text": [
      "  Running command git clone --filter=blob:none --quiet https://github.com/AI4Finance-Foundation/FinRL.git 'C:\\Users\\admin\\AppData\\Local\\Temp\\pip-req-build-bigbr1_i'\n",
      "  Running command git clone --filter=blob:none --quiet https://github.com/AI4Finance-Foundation/ElegantRL.git 'C:\\Users\\admin\\AppData\\Local\\Temp\\pip-install-5pj2hypt\\elegantrl_06e6684c566d4f78b113b277ec4c3414'\n"
     ]
    }
   ],
   "execution_count": 2
  },
  {
   "cell_type": "code",
   "source": [
    "import pandas as pd\n",
    "import numpy as np\n",
    "import datetime\n",
    "import yfinance as yf\n",
    "import os\n",
    "os.environ[\"http_proxy\"] = \"http://localhost:7897\"\n",
    "os.environ[\"https_proxy\"] = \"http://localhost:7897\"\n",
    "from finrl.meta.preprocessor.yahoodownloader import YahooDownloader\n",
    "from finrl.meta.preprocessor.preprocessors import FeatureEngineer, data_split\n",
    "from finrl import config_tickers\n",
    "from finrl.config import INDICATORS\n",
    "\n",
    "import itertools"
   ],
   "metadata": {
    "id": "j37flV31OJGW",
    "ExecuteTime": {
     "end_time": "2024-08-30T05:31:13.723246Z",
     "start_time": "2024-08-30T05:31:08.576418Z"
    }
   },
   "outputs": [],
   "execution_count": 1
  },
  {
   "cell_type": "markdown",
   "source": [
    "# Part 2. Fetch data"
   ],
   "metadata": {
    "id": "wxsN8i7tg07U"
   }
  },
  {
   "cell_type": "markdown",
   "source": [
    "[yfinance](https://github.com/ranaroussi/yfinance) is an open-source library that provides APIs fetching historical data form Yahoo Finance. In FinRL, we have a class called [YahooDownloader](https://github.com/AI4Finance-Foundation/FinRL/blob/master/finrl/meta/preprocessor/yahoodownloader.py) that use yfinance to fetch data from Yahoo Finance."
   ],
   "metadata": {
    "id": "fMNm9tCMXy8J"
   }
  },
  {
   "cell_type": "markdown",
   "source": [
    "**OHLCV**: Data downloaded are in the form of OHLCV, corresponding to **open, high, low, close, volume,** respectively. OHLCV is important because they contain most of numerical information of a stock in time series. From OHLCV, traders can get further judgement and prediction like the momentum, people's interest, market trends, etc."
   ],
   "metadata": {
    "id": "CWVXUkzaZE8m"
   }
  },
  {
   "cell_type": "markdown",
   "source": [
    "## Data for a single ticker"
   ],
   "metadata": {
    "id": "jRYlbdMpW9Np"
   }
  },
  {
   "cell_type": "markdown",
   "source": [
    "Here we provide two ways to fetch data with single ticker, let's take Apple Inc. (AAPL) as an example."
   ],
   "metadata": {
    "id": "1wo6pCQYXDbz"
   }
  },
  {
   "cell_type": "markdown",
   "source": [
    "### Using yfinance"
   ],
   "metadata": {
    "id": "yzVRe90WXLB1"
   }
  },
  {
   "cell_type": "code",
   "source": [
    "aapl_df_yf = yf.download(tickers = \"aapl\", start='2020-01-01', end='2020-01-31')"
   ],
   "metadata": {
    "colab": {
     "base_uri": "https://localhost:8080/"
    },
    "id": "SSl6mVV7XNw6",
    "outputId": "460c06eb-c71d-4ebb-fe17-481295d70cff",
    "ExecuteTime": {
     "end_time": "2024-08-30T05:31:28.088752Z",
     "start_time": "2024-08-30T05:31:26.853218Z"
    }
   },
   "outputs": [
    {
     "name": "stderr",
     "output_type": "stream",
     "text": [
      "[*********************100%%**********************]  1 of 1 completed\n"
     ]
    }
   ],
   "execution_count": 2
  },
  {
   "cell_type": "code",
   "source": [
    "aapl_df_yf.head()"
   ],
   "metadata": {
    "colab": {
     "base_uri": "https://localhost:8080/",
     "height": 238
    },
    "id": "Rjutz22rXrpR",
    "outputId": "62aadc8c-b854-403d-ac73-6cf86d53fa22",
    "ExecuteTime": {
     "end_time": "2024-08-30T05:06:11.289370Z",
     "start_time": "2024-08-30T05:06:11.276364Z"
    }
   },
   "outputs": [
    {
     "data": {
      "text/plain": [
       "Empty DataFrame\n",
       "Columns: [Open, High, Low, Close, Adj Close, Volume]\n",
       "Index: []"
      ],
      "text/html": [
       "<div>\n",
       "<style scoped>\n",
       "    .dataframe tbody tr th:only-of-type {\n",
       "        vertical-align: middle;\n",
       "    }\n",
       "\n",
       "    .dataframe tbody tr th {\n",
       "        vertical-align: top;\n",
       "    }\n",
       "\n",
       "    .dataframe thead th {\n",
       "        text-align: right;\n",
       "    }\n",
       "</style>\n",
       "<table border=\"1\" class=\"dataframe\">\n",
       "  <thead>\n",
       "    <tr style=\"text-align: right;\">\n",
       "      <th></th>\n",
       "      <th>Open</th>\n",
       "      <th>High</th>\n",
       "      <th>Low</th>\n",
       "      <th>Close</th>\n",
       "      <th>Adj Close</th>\n",
       "      <th>Volume</th>\n",
       "    </tr>\n",
       "    <tr>\n",
       "      <th>Date</th>\n",
       "      <th></th>\n",
       "      <th></th>\n",
       "      <th></th>\n",
       "      <th></th>\n",
       "      <th></th>\n",
       "      <th></th>\n",
       "    </tr>\n",
       "  </thead>\n",
       "  <tbody>\n",
       "  </tbody>\n",
       "</table>\n",
       "</div>"
      ]
     },
     "execution_count": 3,
     "metadata": {},
     "output_type": "execute_result"
    }
   ],
   "execution_count": 3
  },
  {
   "cell_type": "markdown",
   "source": [
    "### Using FinRL"
   ],
   "metadata": {
    "id": "fHZLDmnsXOK0"
   }
  },
  {
   "cell_type": "markdown",
   "source": [
    "In FinRL's YahooDownloader, we modified the data frame to the form that convenient for further data processing process. We use adjusted close price instead of close price, and add a column representing the day of a week (0-4 corresponding to Monday-Friday)."
   ],
   "metadata": {
    "id": "VFB77ohNbXCc"
   }
  },
  {
   "cell_type": "code",
   "source": [
    "aapl_df_finrl = YahooDownloader(start_date = '2020-01-01',\n",
    "                                end_date = '2020-01-31',\n",
    "                                ticker_list = ['aapl']).fetch_data()"
   ],
   "metadata": {
    "colab": {
     "base_uri": "https://localhost:8080/"
    },
    "id": "7ufDHvt4XBWT",
    "outputId": "41603042-4f14-4814-c569-305d85fa7f9d",
    "ExecuteTime": {
     "end_time": "2024-08-27T04:00:47.102024Z",
     "start_time": "2024-08-27T04:00:47.051022Z"
    }
   },
   "outputs": [
    {
     "name": "stderr",
     "output_type": "stream",
     "text": [
      "[*********************100%%**********************]  1 of 1 completed"
     ]
    },
    {
     "name": "stdout",
     "output_type": "stream",
     "text": [
      "Shape of DataFrame:  (20, 8)\n"
     ]
    },
    {
     "name": "stderr",
     "output_type": "stream",
     "text": [
      "\n"
     ]
    }
   ],
   "execution_count": 5
  },
  {
   "cell_type": "code",
   "source": [
    "aapl_df_finrl.head()"
   ],
   "metadata": {
    "colab": {
     "base_uri": "https://localhost:8080/",
     "height": 206
    },
    "id": "_TgEjXxhXtT_",
    "outputId": "a8e8a9e2-a1ea-472e-eddf-2227e6c901d8",
    "ExecuteTime": {
     "end_time": "2024-08-27T04:00:49.769907Z",
     "start_time": "2024-08-27T04:00:49.743874Z"
    }
   },
   "outputs": [
    {
     "data": {
      "text/plain": [
       "         date       open       high        low      close     volume   tic  \\\n",
       "0  2020-01-02  74.059998  75.150002  73.797501  72.876114  135480400  aapl   \n",
       "1  2020-01-03  74.287498  75.144997  74.125000  72.167610  146322800  aapl   \n",
       "2  2020-01-06  73.447502  74.989998  73.187500  72.742653  118387200  aapl   \n",
       "3  2020-01-07  74.959999  75.224998  74.370003  72.400551  108872000  aapl   \n",
       "4  2020-01-08  74.290001  76.110001  74.290001  73.565201  132079200  aapl   \n",
       "\n",
       "   day  \n",
       "0    3  \n",
       "1    4  \n",
       "2    0  \n",
       "3    1  \n",
       "4    2  "
      ],
      "text/html": [
       "<div>\n",
       "<style scoped>\n",
       "    .dataframe tbody tr th:only-of-type {\n",
       "        vertical-align: middle;\n",
       "    }\n",
       "\n",
       "    .dataframe tbody tr th {\n",
       "        vertical-align: top;\n",
       "    }\n",
       "\n",
       "    .dataframe thead th {\n",
       "        text-align: right;\n",
       "    }\n",
       "</style>\n",
       "<table border=\"1\" class=\"dataframe\">\n",
       "  <thead>\n",
       "    <tr style=\"text-align: right;\">\n",
       "      <th></th>\n",
       "      <th>date</th>\n",
       "      <th>open</th>\n",
       "      <th>high</th>\n",
       "      <th>low</th>\n",
       "      <th>close</th>\n",
       "      <th>volume</th>\n",
       "      <th>tic</th>\n",
       "      <th>day</th>\n",
       "    </tr>\n",
       "  </thead>\n",
       "  <tbody>\n",
       "    <tr>\n",
       "      <th>0</th>\n",
       "      <td>2020-01-02</td>\n",
       "      <td>74.059998</td>\n",
       "      <td>75.150002</td>\n",
       "      <td>73.797501</td>\n",
       "      <td>72.876114</td>\n",
       "      <td>135480400</td>\n",
       "      <td>aapl</td>\n",
       "      <td>3</td>\n",
       "    </tr>\n",
       "    <tr>\n",
       "      <th>1</th>\n",
       "      <td>2020-01-03</td>\n",
       "      <td>74.287498</td>\n",
       "      <td>75.144997</td>\n",
       "      <td>74.125000</td>\n",
       "      <td>72.167610</td>\n",
       "      <td>146322800</td>\n",
       "      <td>aapl</td>\n",
       "      <td>4</td>\n",
       "    </tr>\n",
       "    <tr>\n",
       "      <th>2</th>\n",
       "      <td>2020-01-06</td>\n",
       "      <td>73.447502</td>\n",
       "      <td>74.989998</td>\n",
       "      <td>73.187500</td>\n",
       "      <td>72.742653</td>\n",
       "      <td>118387200</td>\n",
       "      <td>aapl</td>\n",
       "      <td>0</td>\n",
       "    </tr>\n",
       "    <tr>\n",
       "      <th>3</th>\n",
       "      <td>2020-01-07</td>\n",
       "      <td>74.959999</td>\n",
       "      <td>75.224998</td>\n",
       "      <td>74.370003</td>\n",
       "      <td>72.400551</td>\n",
       "      <td>108872000</td>\n",
       "      <td>aapl</td>\n",
       "      <td>1</td>\n",
       "    </tr>\n",
       "    <tr>\n",
       "      <th>4</th>\n",
       "      <td>2020-01-08</td>\n",
       "      <td>74.290001</td>\n",
       "      <td>76.110001</td>\n",
       "      <td>74.290001</td>\n",
       "      <td>73.565201</td>\n",
       "      <td>132079200</td>\n",
       "      <td>aapl</td>\n",
       "      <td>2</td>\n",
       "    </tr>\n",
       "  </tbody>\n",
       "</table>\n",
       "</div>"
      ]
     },
     "execution_count": 6,
     "metadata": {},
     "output_type": "execute_result"
    }
   ],
   "execution_count": 6
  },
  {
   "cell_type": "markdown",
   "source": [
    "## Data for the chosen tickers"
   ],
   "metadata": {
    "id": "9kcOE5nbic6R"
   }
  },
  {
   "cell_type": "code",
   "source": [
    "config_tickers.DOW_30_TICKER"
   ],
   "metadata": {
    "colab": {
     "base_uri": "https://localhost:8080/"
    },
    "id": "FKBjtAo2uIq5",
    "outputId": "927f682a-9cc3-4c11-c3f1-094ae811af6b",
    "ExecuteTime": {
     "end_time": "2024-08-27T04:01:01.800006Z",
     "start_time": "2024-08-27T04:01:01.782921Z"
    }
   },
   "outputs": [
    {
     "data": {
      "text/plain": [
       "['AXP',\n",
       " 'AMGN',\n",
       " 'AAPL',\n",
       " 'BA',\n",
       " 'CAT',\n",
       " 'CSCO',\n",
       " 'CVX',\n",
       " 'GS',\n",
       " 'HD',\n",
       " 'HON',\n",
       " 'IBM',\n",
       " 'INTC',\n",
       " 'JNJ',\n",
       " 'KO',\n",
       " 'JPM',\n",
       " 'MCD',\n",
       " 'MMM',\n",
       " 'MRK',\n",
       " 'MSFT',\n",
       " 'NKE',\n",
       " 'PG',\n",
       " 'TRV',\n",
       " 'UNH',\n",
       " 'CRM',\n",
       " 'VZ',\n",
       " 'V',\n",
       " 'WBA',\n",
       " 'WMT',\n",
       " 'DIS',\n",
       " 'DOW']"
      ]
     },
     "execution_count": 7,
     "metadata": {},
     "output_type": "execute_result"
    }
   ],
   "execution_count": 7
  },
  {
   "cell_type": "code",
   "source": [
    "TRAIN_START_DATE = '2009-01-01'\n",
    "TRAIN_END_DATE = '2020-07-01'\n",
    "TRADE_START_DATE = '2020-07-01'\n",
    "TRADE_END_DATE = '2021-10-29'"
   ],
   "metadata": {
    "id": "9xTPG4Fhc-zL",
    "ExecuteTime": {
     "end_time": "2024-08-27T04:01:09.821446Z",
     "start_time": "2024-08-27T04:01:09.816482Z"
    }
   },
   "outputs": [],
   "execution_count": 8
  },
  {
   "cell_type": "code",
   "source": [
    "df_raw = YahooDownloader(start_date = TRAIN_START_DATE,\n",
    "                     end_date = TRADE_END_DATE,\n",
    "                     ticker_list = config_tickers.DOW_30_TICKER).fetch_data()"
   ],
   "metadata": {
    "colab": {
     "base_uri": "https://localhost:8080/"
    },
    "id": "9LblMI8CO0F3",
    "outputId": "7be76385-50eb-4e8d-f2e5-1795d77b70ba",
    "ExecuteTime": {
     "end_time": "2024-08-27T04:01:39.105249Z",
     "start_time": "2024-08-27T04:01:15.811623Z"
    }
   },
   "outputs": [
    {
     "name": "stderr",
     "output_type": "stream",
     "text": [
      "[*********************100%%**********************]  1 of 1 completed\n",
      "[*********************100%%**********************]  1 of 1 completed\n",
      "[*********************100%%**********************]  1 of 1 completed\n",
      "[*********************100%%**********************]  1 of 1 completed\n",
      "[*********************100%%**********************]  1 of 1 completed\n",
      "[*********************100%%**********************]  1 of 1 completed\n",
      "[*********************100%%**********************]  1 of 1 completed\n",
      "[*********************100%%**********************]  1 of 1 completed\n",
      "[*********************100%%**********************]  1 of 1 completed\n",
      "[*********************100%%**********************]  1 of 1 completed\n",
      "[*********************100%%**********************]  1 of 1 completed\n",
      "[*********************100%%**********************]  1 of 1 completed\n",
      "[*********************100%%**********************]  1 of 1 completed\n",
      "[*********************100%%**********************]  1 of 1 completed\n",
      "[*********************100%%**********************]  1 of 1 completed\n",
      "[*********************100%%**********************]  1 of 1 completed\n",
      "[*********************100%%**********************]  1 of 1 completed\n",
      "[*********************100%%**********************]  1 of 1 completed\n",
      "[*********************100%%**********************]  1 of 1 completed\n",
      "[*********************100%%**********************]  1 of 1 completed\n",
      "[*********************100%%**********************]  1 of 1 completed\n",
      "[*********************100%%**********************]  1 of 1 completed\n",
      "[*********************100%%**********************]  1 of 1 completed\n",
      "[*********************100%%**********************]  1 of 1 completed\n",
      "[*********************100%%**********************]  1 of 1 completed\n",
      "[*********************100%%**********************]  1 of 1 completed\n",
      "[*********************100%%**********************]  1 of 1 completed\n",
      "[*********************100%%**********************]  1 of 1 completed\n",
      "[*********************100%%**********************]  1 of 1 completed\n",
      "[*********************100%%**********************]  1 of 1 completed\n"
     ]
    },
    {
     "name": "stdout",
     "output_type": "stream",
     "text": [
      "Shape of DataFrame:  (94301, 8)\n"
     ]
    }
   ],
   "execution_count": 9
  },
  {
   "cell_type": "code",
   "source": [
    "df_raw.head()"
   ],
   "metadata": {
    "colab": {
     "base_uri": "https://localhost:8080/",
     "height": 206
    },
    "id": "RD9cjHzt8X3A",
    "outputId": "051acda5-c8fd-440a-a5af-6be04cfdc018",
    "ExecuteTime": {
     "end_time": "2024-08-27T04:01:39.308321Z",
     "start_time": "2024-08-27T04:01:39.288308Z"
    }
   },
   "outputs": [
    {
     "data": {
      "text/plain": [
       "         date       open       high        low      close     volume   tic  \\\n",
       "0  2009-01-02   3.067143   3.251429   3.041429   2.737005  746015200  AAPL   \n",
       "1  2009-01-02  58.590000  59.080002  57.750000  41.816143    6547900  AMGN   \n",
       "2  2009-01-02  18.570000  19.520000  18.400000  15.053305   10955700   AXP   \n",
       "3  2009-01-02  42.799999  45.560001  42.779999  33.941090    7010200    BA   \n",
       "4  2009-01-02  44.910000  46.980000  44.709999  30.712509    7117200   CAT   \n",
       "\n",
       "   day  \n",
       "0    4  \n",
       "1    4  \n",
       "2    4  \n",
       "3    4  \n",
       "4    4  "
      ],
      "text/html": [
       "<div>\n",
       "<style scoped>\n",
       "    .dataframe tbody tr th:only-of-type {\n",
       "        vertical-align: middle;\n",
       "    }\n",
       "\n",
       "    .dataframe tbody tr th {\n",
       "        vertical-align: top;\n",
       "    }\n",
       "\n",
       "    .dataframe thead th {\n",
       "        text-align: right;\n",
       "    }\n",
       "</style>\n",
       "<table border=\"1\" class=\"dataframe\">\n",
       "  <thead>\n",
       "    <tr style=\"text-align: right;\">\n",
       "      <th></th>\n",
       "      <th>date</th>\n",
       "      <th>open</th>\n",
       "      <th>high</th>\n",
       "      <th>low</th>\n",
       "      <th>close</th>\n",
       "      <th>volume</th>\n",
       "      <th>tic</th>\n",
       "      <th>day</th>\n",
       "    </tr>\n",
       "  </thead>\n",
       "  <tbody>\n",
       "    <tr>\n",
       "      <th>0</th>\n",
       "      <td>2009-01-02</td>\n",
       "      <td>3.067143</td>\n",
       "      <td>3.251429</td>\n",
       "      <td>3.041429</td>\n",
       "      <td>2.737005</td>\n",
       "      <td>746015200</td>\n",
       "      <td>AAPL</td>\n",
       "      <td>4</td>\n",
       "    </tr>\n",
       "    <tr>\n",
       "      <th>1</th>\n",
       "      <td>2009-01-02</td>\n",
       "      <td>58.590000</td>\n",
       "      <td>59.080002</td>\n",
       "      <td>57.750000</td>\n",
       "      <td>41.816143</td>\n",
       "      <td>6547900</td>\n",
       "      <td>AMGN</td>\n",
       "      <td>4</td>\n",
       "    </tr>\n",
       "    <tr>\n",
       "      <th>2</th>\n",
       "      <td>2009-01-02</td>\n",
       "      <td>18.570000</td>\n",
       "      <td>19.520000</td>\n",
       "      <td>18.400000</td>\n",
       "      <td>15.053305</td>\n",
       "      <td>10955700</td>\n",
       "      <td>AXP</td>\n",
       "      <td>4</td>\n",
       "    </tr>\n",
       "    <tr>\n",
       "      <th>3</th>\n",
       "      <td>2009-01-02</td>\n",
       "      <td>42.799999</td>\n",
       "      <td>45.560001</td>\n",
       "      <td>42.779999</td>\n",
       "      <td>33.941090</td>\n",
       "      <td>7010200</td>\n",
       "      <td>BA</td>\n",
       "      <td>4</td>\n",
       "    </tr>\n",
       "    <tr>\n",
       "      <th>4</th>\n",
       "      <td>2009-01-02</td>\n",
       "      <td>44.910000</td>\n",
       "      <td>46.980000</td>\n",
       "      <td>44.709999</td>\n",
       "      <td>30.712509</td>\n",
       "      <td>7117200</td>\n",
       "      <td>CAT</td>\n",
       "      <td>4</td>\n",
       "    </tr>\n",
       "  </tbody>\n",
       "</table>\n",
       "</div>"
      ]
     },
     "execution_count": 10,
     "metadata": {},
     "output_type": "execute_result"
    }
   ],
   "execution_count": 10
  },
  {
   "cell_type": "markdown",
   "metadata": {
    "id": "uqC6c40Zh1iH"
   },
   "source": [
    "# Part 3: Preprocess Data\n",
    "We need to check for missing data and do feature engineering to convert the data point into a state.\n",
    "* **Adding technical indicators**. In practical trading, various information needs to be taken into account, such as historical prices, current holding shares, technical indicators, etc. Here, we demonstrate two trend-following technical indicators: MACD and RSI.\n",
    "* **Adding turbulence index**. Risk-aversion reflects whether an investor prefers to protect the capital. It also influences one's trading strategy when facing different market volatility level. To control the risk in a worst-case scenario, such as financial crisis of 2007–2008, FinRL employs the turbulence index that measures extreme fluctuation of asset price."
   ]
  },
  {
   "cell_type": "markdown",
   "source": [
    "Hear let's take **MACD** as an example. Moving average convergence/divergence (MACD) is one of the most commonly used indicator showing bull and bear market. Its calculation is based on EMA (Exponential Moving Average indicator, measuring trend direction over a period of time.)"
   ],
   "metadata": {
    "id": "1lQxLyWpdbAd"
   }
  },
  {
   "cell_type": "code",
   "metadata": {
    "id": "PmKP-1ii3RLS",
    "colab": {
     "base_uri": "https://localhost:8080/"
    },
    "outputId": "d514cf1a-8609-402e-ad58-df5f9100ec85",
    "ExecuteTime": {
     "end_time": "2024-08-27T04:05:55.195351Z",
     "start_time": "2024-08-27T04:05:18.718433Z"
    }
   },
   "source": [
    "fe = FeatureEngineer(use_technical_indicator=True,\n",
    "                     tech_indicator_list = INDICATORS,\n",
    "                     use_vix=True,\n",
    "                     use_turbulence=True,\n",
    "                     user_defined_feature = False)\n",
    "\n",
    "processed = fe.preprocess_data(df_raw)"
   ],
   "outputs": [
    {
     "name": "stdout",
     "output_type": "stream",
     "text": [
      "Successfully added technical indicators\n"
     ]
    },
    {
     "name": "stderr",
     "output_type": "stream",
     "text": [
      "[*********************100%%**********************]  1 of 1 completed\n"
     ]
    },
    {
     "name": "stdout",
     "output_type": "stream",
     "text": [
      "Shape of DataFrame:  (3228, 8)\n",
      "Successfully added vix\n",
      "Successfully added turbulence index\n"
     ]
    }
   ],
   "execution_count": 11
  },
  {
   "cell_type": "code",
   "metadata": {
    "id": "Kixon2tR3RLT",
    "ExecuteTime": {
     "end_time": "2024-08-27T04:08:23.848614Z",
     "start_time": "2024-08-27T04:08:23.694614Z"
    }
   },
   "source": [
    "list_ticker = processed[\"tic\"].unique().tolist()\n",
    "list_date = list(pd.date_range(processed['date'].min(),processed['date'].max()).astype(str))\n",
    "combination = list(itertools.product(list_date,list_ticker))\n",
    "\n",
    "processed_full = pd.DataFrame(combination,columns=[\"date\",\"tic\"]).merge(processed,on=[\"date\",\"tic\"],how=\"left\")\n",
    "processed_full = processed_full[processed_full['date'].isin(processed['date'])]\n",
    "processed_full = processed_full.sort_values(['date','tic'])\n",
    "\n",
    "processed_full = processed_full.fillna(0)"
   ],
   "outputs": [],
   "execution_count": 12
  },
  {
   "cell_type": "code",
   "source": [
    "processed_full.head()"
   ],
   "metadata": {
    "colab": {
     "base_uri": "https://localhost:8080/",
     "height": 357
    },
    "id": "HwKJNWJSabNK",
    "outputId": "16c8080e-91b0-4e8d-9a09-44939ac69801",
    "ExecuteTime": {
     "end_time": "2024-08-27T04:08:24.160397Z",
     "start_time": "2024-08-27T04:08:24.126295Z"
    }
   },
   "outputs": [
    {
     "data": {
      "text/plain": [
       "         date   tic       open       high        low      close       volume  \\\n",
       "0  2009-01-02  AAPL   3.067143   3.251429   3.041429   2.737005  746015200.0   \n",
       "1  2009-01-02  AMGN  58.590000  59.080002  57.750000  41.816143    6547900.0   \n",
       "2  2009-01-02   AXP  18.570000  19.520000  18.400000  15.053305   10955700.0   \n",
       "3  2009-01-02    BA  42.799999  45.560001  42.779999  33.941090    7010200.0   \n",
       "4  2009-01-02   CAT  44.910000  46.980000  44.709999  30.712509    7117200.0   \n",
       "\n",
       "   day  macd   boll_ub   boll_lb  rsi_30     cci_30  dx_30  close_30_sma  \\\n",
       "0  4.0   0.0  2.958121  2.631401   100.0  66.666667  100.0      2.737005   \n",
       "1  4.0   0.0  2.958121  2.631401   100.0  66.666667  100.0     41.816143   \n",
       "2  4.0   0.0  2.958121  2.631401   100.0  66.666667  100.0     15.053305   \n",
       "3  4.0   0.0  2.958121  2.631401   100.0  66.666667  100.0     33.941090   \n",
       "4  4.0   0.0  2.958121  2.631401   100.0  66.666667  100.0     30.712509   \n",
       "\n",
       "   close_60_sma        vix  turbulence  \n",
       "0      2.737005  39.189999         0.0  \n",
       "1     41.816143  39.189999         0.0  \n",
       "2     15.053305  39.189999         0.0  \n",
       "3     33.941090  39.189999         0.0  \n",
       "4     30.712509  39.189999         0.0  "
      ],
      "text/html": [
       "<div>\n",
       "<style scoped>\n",
       "    .dataframe tbody tr th:only-of-type {\n",
       "        vertical-align: middle;\n",
       "    }\n",
       "\n",
       "    .dataframe tbody tr th {\n",
       "        vertical-align: top;\n",
       "    }\n",
       "\n",
       "    .dataframe thead th {\n",
       "        text-align: right;\n",
       "    }\n",
       "</style>\n",
       "<table border=\"1\" class=\"dataframe\">\n",
       "  <thead>\n",
       "    <tr style=\"text-align: right;\">\n",
       "      <th></th>\n",
       "      <th>date</th>\n",
       "      <th>tic</th>\n",
       "      <th>open</th>\n",
       "      <th>high</th>\n",
       "      <th>low</th>\n",
       "      <th>close</th>\n",
       "      <th>volume</th>\n",
       "      <th>day</th>\n",
       "      <th>macd</th>\n",
       "      <th>boll_ub</th>\n",
       "      <th>boll_lb</th>\n",
       "      <th>rsi_30</th>\n",
       "      <th>cci_30</th>\n",
       "      <th>dx_30</th>\n",
       "      <th>close_30_sma</th>\n",
       "      <th>close_60_sma</th>\n",
       "      <th>vix</th>\n",
       "      <th>turbulence</th>\n",
       "    </tr>\n",
       "  </thead>\n",
       "  <tbody>\n",
       "    <tr>\n",
       "      <th>0</th>\n",
       "      <td>2009-01-02</td>\n",
       "      <td>AAPL</td>\n",
       "      <td>3.067143</td>\n",
       "      <td>3.251429</td>\n",
       "      <td>3.041429</td>\n",
       "      <td>2.737005</td>\n",
       "      <td>746015200.0</td>\n",
       "      <td>4.0</td>\n",
       "      <td>0.0</td>\n",
       "      <td>2.958121</td>\n",
       "      <td>2.631401</td>\n",
       "      <td>100.0</td>\n",
       "      <td>66.666667</td>\n",
       "      <td>100.0</td>\n",
       "      <td>2.737005</td>\n",
       "      <td>2.737005</td>\n",
       "      <td>39.189999</td>\n",
       "      <td>0.0</td>\n",
       "    </tr>\n",
       "    <tr>\n",
       "      <th>1</th>\n",
       "      <td>2009-01-02</td>\n",
       "      <td>AMGN</td>\n",
       "      <td>58.590000</td>\n",
       "      <td>59.080002</td>\n",
       "      <td>57.750000</td>\n",
       "      <td>41.816143</td>\n",
       "      <td>6547900.0</td>\n",
       "      <td>4.0</td>\n",
       "      <td>0.0</td>\n",
       "      <td>2.958121</td>\n",
       "      <td>2.631401</td>\n",
       "      <td>100.0</td>\n",
       "      <td>66.666667</td>\n",
       "      <td>100.0</td>\n",
       "      <td>41.816143</td>\n",
       "      <td>41.816143</td>\n",
       "      <td>39.189999</td>\n",
       "      <td>0.0</td>\n",
       "    </tr>\n",
       "    <tr>\n",
       "      <th>2</th>\n",
       "      <td>2009-01-02</td>\n",
       "      <td>AXP</td>\n",
       "      <td>18.570000</td>\n",
       "      <td>19.520000</td>\n",
       "      <td>18.400000</td>\n",
       "      <td>15.053305</td>\n",
       "      <td>10955700.0</td>\n",
       "      <td>4.0</td>\n",
       "      <td>0.0</td>\n",
       "      <td>2.958121</td>\n",
       "      <td>2.631401</td>\n",
       "      <td>100.0</td>\n",
       "      <td>66.666667</td>\n",
       "      <td>100.0</td>\n",
       "      <td>15.053305</td>\n",
       "      <td>15.053305</td>\n",
       "      <td>39.189999</td>\n",
       "      <td>0.0</td>\n",
       "    </tr>\n",
       "    <tr>\n",
       "      <th>3</th>\n",
       "      <td>2009-01-02</td>\n",
       "      <td>BA</td>\n",
       "      <td>42.799999</td>\n",
       "      <td>45.560001</td>\n",
       "      <td>42.779999</td>\n",
       "      <td>33.941090</td>\n",
       "      <td>7010200.0</td>\n",
       "      <td>4.0</td>\n",
       "      <td>0.0</td>\n",
       "      <td>2.958121</td>\n",
       "      <td>2.631401</td>\n",
       "      <td>100.0</td>\n",
       "      <td>66.666667</td>\n",
       "      <td>100.0</td>\n",
       "      <td>33.941090</td>\n",
       "      <td>33.941090</td>\n",
       "      <td>39.189999</td>\n",
       "      <td>0.0</td>\n",
       "    </tr>\n",
       "    <tr>\n",
       "      <th>4</th>\n",
       "      <td>2009-01-02</td>\n",
       "      <td>CAT</td>\n",
       "      <td>44.910000</td>\n",
       "      <td>46.980000</td>\n",
       "      <td>44.709999</td>\n",
       "      <td>30.712509</td>\n",
       "      <td>7117200.0</td>\n",
       "      <td>4.0</td>\n",
       "      <td>0.0</td>\n",
       "      <td>2.958121</td>\n",
       "      <td>2.631401</td>\n",
       "      <td>100.0</td>\n",
       "      <td>66.666667</td>\n",
       "      <td>100.0</td>\n",
       "      <td>30.712509</td>\n",
       "      <td>30.712509</td>\n",
       "      <td>39.189999</td>\n",
       "      <td>0.0</td>\n",
       "    </tr>\n",
       "  </tbody>\n",
       "</table>\n",
       "</div>"
      ]
     },
     "execution_count": 13,
     "metadata": {},
     "output_type": "execute_result"
    }
   ],
   "execution_count": 13
  },
  {
   "cell_type": "markdown",
   "source": [
    "# Part 4: Save the Data"
   ],
   "metadata": {
    "id": "ydLNxwdPIJhW"
   }
  },
  {
   "cell_type": "markdown",
   "source": [
    "### Split the data for training and trading"
   ],
   "metadata": {
    "id": "VbMDnfukILc_"
   }
  },
  {
   "cell_type": "code",
   "source": [
    "train = data_split(processed_full, TRAIN_START_DATE,TRAIN_END_DATE)\n",
    "trade = data_split(processed_full, TRADE_START_DATE,TRADE_END_DATE)\n",
    "print(len(train))\n",
    "print(len(trade))"
   ],
   "metadata": {
    "colab": {
     "base_uri": "https://localhost:8080/"
    },
    "id": "iEiXDdUhZP7R",
    "outputId": "554b1c09-6d6f-48fb-c724-351b40a2ddaf",
    "ExecuteTime": {
     "end_time": "2024-08-27T04:08:46.319160Z",
     "start_time": "2024-08-27T04:08:46.264162Z"
    }
   },
   "outputs": [
    {
     "name": "stdout",
     "output_type": "stream",
     "text": [
      "83897\n",
      "9715\n"
     ]
    }
   ],
   "execution_count": 14
  },
  {
   "cell_type": "markdown",
   "source": [
    "### Save data to csv file"
   ],
   "metadata": {
    "id": "DflbzEV8IRhF"
   }
  },
  {
   "cell_type": "markdown",
   "source": [
    "For Colab users, you can open the virtual directory in colab and manually download the files.\n",
    "\n",
    "For users running on your local environment, the csv files should be at the same directory of this notebook."
   ],
   "metadata": {
    "id": "Tud3IZDzIUpd"
   }
  },
  {
   "cell_type": "code",
   "source": [
    "train.to_csv('train_data.csv')\n",
    "trade.to_csv('trade_data.csv')"
   ],
   "metadata": {
    "id": "j2c12CpfHEjE",
    "ExecuteTime": {
     "end_time": "2024-08-27T04:08:52.452071Z",
     "start_time": "2024-08-27T04:08:50.855906Z"
    }
   },
   "outputs": [],
   "execution_count": 15
  }
 ]
}
