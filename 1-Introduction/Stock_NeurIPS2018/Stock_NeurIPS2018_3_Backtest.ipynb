{
 "cells": [
  {
   "cell_type": "markdown",
   "metadata": {
    "id": "v7Cycmf3Zbok"
   },
   "source": [
    "# Stock NeurIPS2018 Part 3. Backtest\n",
    "This series is a reproduction of paper *the process in the paper Practical Deep Reinforcement Learning Approach for Stock Trading*. \n",
    "\n",
    "This is the third and last part of the NeurIPS2018 series, introducing how to use use the agents we trained to do backtest, and compare with baselines such as Mean Variance Optimization and DJIA index.\n",
    "\n",
    "Other demos can be found at the repo of [FinRL-Tutorials]((https://github.com/AI4Finance-Foundation/FinRL-Tutorials))."
   ]
  },
  {
   "cell_type": "markdown",
   "metadata": {
    "id": "1oWbj4HgqHBg"
   },
   "source": [
    "# Part 1. Install Packages"
   ]
  },
  {
   "cell_type": "code",
   "execution_count": 1,
   "metadata": {
    "id": "QJgoEYx3p_NG"
   },
   "outputs": [
    {
     "name": "stdout",
     "output_type": "stream",
     "text": [
      "Requirement already satisfied: swig in /opt/homebrew/Caskroom/miniconda/base/envs/finRL/lib/python3.10/site-packages (4.1.1)\n",
      "Requirement already satisfied: wrds in /opt/homebrew/Caskroom/miniconda/base/envs/finRL/lib/python3.10/site-packages (3.1.6)\n",
      "Requirement already satisfied: numpy in /opt/homebrew/Caskroom/miniconda/base/envs/finRL/lib/python3.10/site-packages (from wrds) (1.26.0)\n",
      "Requirement already satisfied: pandas in /opt/homebrew/Caskroom/miniconda/base/envs/finRL/lib/python3.10/site-packages (from wrds) (2.1.1)\n",
      "Requirement already satisfied: psycopg2-binary in /opt/homebrew/Caskroom/miniconda/base/envs/finRL/lib/python3.10/site-packages (from wrds) (2.9.9)\n",
      "Requirement already satisfied: scipy in /opt/homebrew/Caskroom/miniconda/base/envs/finRL/lib/python3.10/site-packages (from wrds) (1.11.3)\n",
      "Requirement already satisfied: sqlalchemy<2 in /opt/homebrew/Caskroom/miniconda/base/envs/finRL/lib/python3.10/site-packages (from wrds) (1.4.49)\n",
      "Requirement already satisfied: python-dateutil>=2.8.2 in /opt/homebrew/Caskroom/miniconda/base/envs/finRL/lib/python3.10/site-packages (from pandas->wrds) (2.8.2)\n",
      "Requirement already satisfied: pytz>=2020.1 in /opt/homebrew/Caskroom/miniconda/base/envs/finRL/lib/python3.10/site-packages (from pandas->wrds) (2023.3.post1)\n",
      "Requirement already satisfied: tzdata>=2022.1 in /opt/homebrew/Caskroom/miniconda/base/envs/finRL/lib/python3.10/site-packages (from pandas->wrds) (2023.3)\n",
      "Requirement already satisfied: six>=1.5 in /opt/homebrew/Caskroom/miniconda/base/envs/finRL/lib/python3.10/site-packages (from python-dateutil>=2.8.2->pandas->wrds) (1.16.0)\n",
      "Requirement already satisfied: pyportfolioopt in /opt/homebrew/Caskroom/miniconda/base/envs/finRL/lib/python3.10/site-packages (1.5.5)\n",
      "Requirement already satisfied: cvxpy<2.0.0,>=1.1.19 in /opt/homebrew/Caskroom/miniconda/base/envs/finRL/lib/python3.10/site-packages (from pyportfolioopt) (1.4.1)\n",
      "Requirement already satisfied: numpy<2.0.0,>=1.22.4 in /opt/homebrew/Caskroom/miniconda/base/envs/finRL/lib/python3.10/site-packages (from pyportfolioopt) (1.26.0)\n",
      "Requirement already satisfied: pandas>=0.19 in /opt/homebrew/Caskroom/miniconda/base/envs/finRL/lib/python3.10/site-packages (from pyportfolioopt) (2.1.1)\n",
      "Requirement already satisfied: scipy<2.0,>=1.3 in /opt/homebrew/Caskroom/miniconda/base/envs/finRL/lib/python3.10/site-packages (from pyportfolioopt) (1.11.3)\n",
      "Requirement already satisfied: osqp>=0.6.2 in /opt/homebrew/Caskroom/miniconda/base/envs/finRL/lib/python3.10/site-packages (from cvxpy<2.0.0,>=1.1.19->pyportfolioopt) (0.6.3)\n",
      "Requirement already satisfied: ecos>=2 in /opt/homebrew/Caskroom/miniconda/base/envs/finRL/lib/python3.10/site-packages (from cvxpy<2.0.0,>=1.1.19->pyportfolioopt) (2.0.12)\n",
      "Requirement already satisfied: clarabel>=0.5.0 in /opt/homebrew/Caskroom/miniconda/base/envs/finRL/lib/python3.10/site-packages (from cvxpy<2.0.0,>=1.1.19->pyportfolioopt) (0.6.0)\n",
      "Requirement already satisfied: scs>=3.0 in /opt/homebrew/Caskroom/miniconda/base/envs/finRL/lib/python3.10/site-packages (from cvxpy<2.0.0,>=1.1.19->pyportfolioopt) (3.2.3)\n",
      "Requirement already satisfied: pybind11 in /opt/homebrew/Caskroom/miniconda/base/envs/finRL/lib/python3.10/site-packages (from cvxpy<2.0.0,>=1.1.19->pyportfolioopt) (2.11.1)\n",
      "Requirement already satisfied: python-dateutil>=2.8.2 in /opt/homebrew/Caskroom/miniconda/base/envs/finRL/lib/python3.10/site-packages (from pandas>=0.19->pyportfolioopt) (2.8.2)\n",
      "Requirement already satisfied: pytz>=2020.1 in /opt/homebrew/Caskroom/miniconda/base/envs/finRL/lib/python3.10/site-packages (from pandas>=0.19->pyportfolioopt) (2023.3.post1)\n",
      "Requirement already satisfied: tzdata>=2022.1 in /opt/homebrew/Caskroom/miniconda/base/envs/finRL/lib/python3.10/site-packages (from pandas>=0.19->pyportfolioopt) (2023.3)\n",
      "Requirement already satisfied: qdldl in /opt/homebrew/Caskroom/miniconda/base/envs/finRL/lib/python3.10/site-packages (from osqp>=0.6.2->cvxpy<2.0.0,>=1.1.19->pyportfolioopt) (0.1.7.post0)\n",
      "Requirement already satisfied: six>=1.5 in /opt/homebrew/Caskroom/miniconda/base/envs/finRL/lib/python3.10/site-packages (from python-dateutil>=2.8.2->pandas>=0.19->pyportfolioopt) (1.16.0)\n",
      "Collecting git+https://github.com/AI4Finance-Foundation/FinRL.git\n",
      "  Cloning https://github.com/AI4Finance-Foundation/FinRL.git to /private/var/folders/pc/8l9dz1f949ddzztd4yfcytx80000gn/T/pip-req-build-6hrmrp8b\n",
      "  Running command git clone --filter=blob:none --quiet https://github.com/AI4Finance-Foundation/FinRL.git /private/var/folders/pc/8l9dz1f949ddzztd4yfcytx80000gn/T/pip-req-build-6hrmrp8b\n",
      "  Resolved https://github.com/AI4Finance-Foundation/FinRL.git to commit 7c71056dd6d72e205096696319a2d8bd4a2bfe23\n",
      "  Installing build dependencies ... \u001B[?25ldone\n",
      "\u001B[?25h  Getting requirements to build wheel ... \u001B[?25ldone\n",
      "\u001B[?25h  Preparing metadata (pyproject.toml) ... \u001B[?25ldone\n",
      "\u001B[?25hCollecting elegantrl@ git+https://github.com/AI4Finance-Foundation/ElegantRL.git#egg=elegantrl (from finrl==0.3.6)\n",
      "  Cloning https://github.com/AI4Finance-Foundation/ElegantRL.git to /private/var/folders/pc/8l9dz1f949ddzztd4yfcytx80000gn/T/pip-install-qjr44cy9/elegantrl_55204e69217544c5b59af518abeda00f\n",
      "  Running command git clone --filter=blob:none --quiet https://github.com/AI4Finance-Foundation/ElegantRL.git /private/var/folders/pc/8l9dz1f949ddzztd4yfcytx80000gn/T/pip-install-qjr44cy9/elegantrl_55204e69217544c5b59af518abeda00f\n",
      "  Resolved https://github.com/AI4Finance-Foundation/ElegantRL.git to commit a68515548417093006eb7f68738b55a3a758645e\n",
      "  Preparing metadata (setup.py) ... \u001B[?25ldone\n",
      "\u001B[?25hRequirement already satisfied: alpaca-trade-api<4,>=3 in /opt/homebrew/Caskroom/miniconda/base/envs/finRL/lib/python3.10/site-packages (from finrl==0.3.6) (3.0.2)\n",
      "Requirement already satisfied: ccxt<4,>=3 in /opt/homebrew/Caskroom/miniconda/base/envs/finRL/lib/python3.10/site-packages (from finrl==0.3.6) (3.1.60)\n",
      "Requirement already satisfied: exchange-calendars<5,>=4 in /opt/homebrew/Caskroom/miniconda/base/envs/finRL/lib/python3.10/site-packages (from finrl==0.3.6) (4.5)\n",
      "Requirement already satisfied: jqdatasdk<2,>=1 in /opt/homebrew/Caskroom/miniconda/base/envs/finRL/lib/python3.10/site-packages (from finrl==0.3.6) (1.9.1)\n",
      "Requirement already satisfied: pyfolio<0.10,>=0.9 in /opt/homebrew/Caskroom/miniconda/base/envs/finRL/lib/python3.10/site-packages (from finrl==0.3.6) (0.9.2)\n",
      "Requirement already satisfied: pyportfolioopt<2,>=1 in /opt/homebrew/Caskroom/miniconda/base/envs/finRL/lib/python3.10/site-packages (from finrl==0.3.6) (1.5.5)\n",
      "Requirement already satisfied: ray[default,tune]<3,>=2 in /opt/homebrew/Caskroom/miniconda/base/envs/finRL/lib/python3.10/site-packages (from finrl==0.3.6) (2.7.1)\n",
      "Requirement already satisfied: scikit-learn<2,>=1 in /opt/homebrew/Caskroom/miniconda/base/envs/finRL/lib/python3.10/site-packages (from finrl==0.3.6) (1.3.1)\n",
      "Requirement already satisfied: stable-baselines3[extra]>=2.0.0a5 in /opt/homebrew/Caskroom/miniconda/base/envs/finRL/lib/python3.10/site-packages (from finrl==0.3.6) (2.1.0)\n",
      "Requirement already satisfied: stockstats<0.6,>=0.5 in /opt/homebrew/Caskroom/miniconda/base/envs/finRL/lib/python3.10/site-packages (from finrl==0.3.6) (0.5.4)\n",
      "Requirement already satisfied: wrds<4,>=3 in /opt/homebrew/Caskroom/miniconda/base/envs/finRL/lib/python3.10/site-packages (from finrl==0.3.6) (3.1.6)\n",
      "Requirement already satisfied: yfinance<0.3,>=0.2 in /opt/homebrew/Caskroom/miniconda/base/envs/finRL/lib/python3.10/site-packages (from finrl==0.3.6) (0.2.31)\n",
      "Requirement already satisfied: pandas>=0.18.1 in /opt/homebrew/Caskroom/miniconda/base/envs/finRL/lib/python3.10/site-packages (from alpaca-trade-api<4,>=3->finrl==0.3.6) (2.1.1)\n",
      "Requirement already satisfied: numpy>=1.11.1 in /opt/homebrew/Caskroom/miniconda/base/envs/finRL/lib/python3.10/site-packages (from alpaca-trade-api<4,>=3->finrl==0.3.6) (1.26.0)\n",
      "Requirement already satisfied: requests<3,>2 in /opt/homebrew/Caskroom/miniconda/base/envs/finRL/lib/python3.10/site-packages (from alpaca-trade-api<4,>=3->finrl==0.3.6) (2.31.0)\n",
      "Requirement already satisfied: urllib3<2,>1.24 in /opt/homebrew/Caskroom/miniconda/base/envs/finRL/lib/python3.10/site-packages (from alpaca-trade-api<4,>=3->finrl==0.3.6) (1.26.17)\n",
      "Requirement already satisfied: websocket-client<2,>=0.56.0 in /opt/homebrew/Caskroom/miniconda/base/envs/finRL/lib/python3.10/site-packages (from alpaca-trade-api<4,>=3->finrl==0.3.6) (1.6.4)\n",
      "Requirement already satisfied: websockets<11,>=9.0 in /opt/homebrew/Caskroom/miniconda/base/envs/finRL/lib/python3.10/site-packages (from alpaca-trade-api<4,>=3->finrl==0.3.6) (10.4)\n",
      "Requirement already satisfied: msgpack==1.0.3 in /opt/homebrew/Caskroom/miniconda/base/envs/finRL/lib/python3.10/site-packages (from alpaca-trade-api<4,>=3->finrl==0.3.6) (1.0.3)\n",
      "Requirement already satisfied: aiohttp==3.8.2 in /opt/homebrew/Caskroom/miniconda/base/envs/finRL/lib/python3.10/site-packages (from alpaca-trade-api<4,>=3->finrl==0.3.6) (3.8.2)\n",
      "Requirement already satisfied: PyYAML==6.0 in /opt/homebrew/Caskroom/miniconda/base/envs/finRL/lib/python3.10/site-packages (from alpaca-trade-api<4,>=3->finrl==0.3.6) (6.0)\n",
      "Requirement already satisfied: deprecation==2.1.0 in /opt/homebrew/Caskroom/miniconda/base/envs/finRL/lib/python3.10/site-packages (from alpaca-trade-api<4,>=3->finrl==0.3.6) (2.1.0)\n",
      "Requirement already satisfied: attrs>=17.3.0 in /opt/homebrew/Caskroom/miniconda/base/envs/finRL/lib/python3.10/site-packages (from aiohttp==3.8.2->alpaca-trade-api<4,>=3->finrl==0.3.6) (23.1.0)\n",
      "Requirement already satisfied: charset-normalizer<3.0,>=2.0 in /opt/homebrew/Caskroom/miniconda/base/envs/finRL/lib/python3.10/site-packages (from aiohttp==3.8.2->alpaca-trade-api<4,>=3->finrl==0.3.6) (2.1.1)\n",
      "Requirement already satisfied: multidict<6.0,>=4.5 in /opt/homebrew/Caskroom/miniconda/base/envs/finRL/lib/python3.10/site-packages (from aiohttp==3.8.2->alpaca-trade-api<4,>=3->finrl==0.3.6) (5.2.0)\n",
      "Requirement already satisfied: async-timeout<5.0,>=4.0.0a3 in /opt/homebrew/Caskroom/miniconda/base/envs/finRL/lib/python3.10/site-packages (from aiohttp==3.8.2->alpaca-trade-api<4,>=3->finrl==0.3.6) (4.0.3)\n",
      "Requirement already satisfied: yarl<2.0,>=1.0 in /opt/homebrew/Caskroom/miniconda/base/envs/finRL/lib/python3.10/site-packages (from aiohttp==3.8.2->alpaca-trade-api<4,>=3->finrl==0.3.6) (1.9.2)\n",
      "Requirement already satisfied: frozenlist>=1.1.1 in /opt/homebrew/Caskroom/miniconda/base/envs/finRL/lib/python3.10/site-packages (from aiohttp==3.8.2->alpaca-trade-api<4,>=3->finrl==0.3.6) (1.4.0)\n",
      "Requirement already satisfied: aiosignal>=1.1.2 in /opt/homebrew/Caskroom/miniconda/base/envs/finRL/lib/python3.10/site-packages (from aiohttp==3.8.2->alpaca-trade-api<4,>=3->finrl==0.3.6) (1.3.1)\n",
      "Requirement already satisfied: packaging in /opt/homebrew/Caskroom/miniconda/base/envs/finRL/lib/python3.10/site-packages (from deprecation==2.1.0->alpaca-trade-api<4,>=3->finrl==0.3.6) (23.2)\n",
      "Requirement already satisfied: setuptools>=60.9.0 in /opt/homebrew/Caskroom/miniconda/base/envs/finRL/lib/python3.10/site-packages (from ccxt<4,>=3->finrl==0.3.6) (68.0.0)\n",
      "Requirement already satisfied: certifi>=2018.1.18 in /opt/homebrew/Caskroom/miniconda/base/envs/finRL/lib/python3.10/site-packages (from ccxt<4,>=3->finrl==0.3.6) (2023.7.22)\n",
      "Requirement already satisfied: cryptography>=2.6.1 in /opt/homebrew/Caskroom/miniconda/base/envs/finRL/lib/python3.10/site-packages (from ccxt<4,>=3->finrl==0.3.6) (41.0.4)\n",
      "Requirement already satisfied: aiodns>=1.1.1 in /opt/homebrew/Caskroom/miniconda/base/envs/finRL/lib/python3.10/site-packages (from ccxt<4,>=3->finrl==0.3.6) (3.1.0)\n",
      "Requirement already satisfied: pyluach in /opt/homebrew/Caskroom/miniconda/base/envs/finRL/lib/python3.10/site-packages (from exchange-calendars<5,>=4->finrl==0.3.6) (2.2.0)\n",
      "Requirement already satisfied: python-dateutil in /opt/homebrew/Caskroom/miniconda/base/envs/finRL/lib/python3.10/site-packages (from exchange-calendars<5,>=4->finrl==0.3.6) (2.8.2)\n",
      "Requirement already satisfied: toolz in /opt/homebrew/Caskroom/miniconda/base/envs/finRL/lib/python3.10/site-packages (from exchange-calendars<5,>=4->finrl==0.3.6) (0.12.0)\n",
      "Requirement already satisfied: tzdata in /opt/homebrew/Caskroom/miniconda/base/envs/finRL/lib/python3.10/site-packages (from exchange-calendars<5,>=4->finrl==0.3.6) (2023.3)\n",
      "Requirement already satisfied: korean-lunar-calendar in /opt/homebrew/Caskroom/miniconda/base/envs/finRL/lib/python3.10/site-packages (from exchange-calendars<5,>=4->finrl==0.3.6) (0.3.1)\n",
      "Requirement already satisfied: six in /opt/homebrew/Caskroom/miniconda/base/envs/finRL/lib/python3.10/site-packages (from jqdatasdk<2,>=1->finrl==0.3.6) (1.16.0)\n",
      "Requirement already satisfied: SQLAlchemy>=1.2.8 in /opt/homebrew/Caskroom/miniconda/base/envs/finRL/lib/python3.10/site-packages (from jqdatasdk<2,>=1->finrl==0.3.6) (1.4.49)\n",
      "Requirement already satisfied: thriftpy2>=0.3.9 in /opt/homebrew/Caskroom/miniconda/base/envs/finRL/lib/python3.10/site-packages (from jqdatasdk<2,>=1->finrl==0.3.6) (0.4.17)\n",
      "Requirement already satisfied: pymysql>=0.7.6 in /opt/homebrew/Caskroom/miniconda/base/envs/finRL/lib/python3.10/site-packages (from jqdatasdk<2,>=1->finrl==0.3.6) (1.1.0)\n",
      "Requirement already satisfied: ipython>=3.2.3 in /opt/homebrew/Caskroom/miniconda/base/envs/finRL/lib/python3.10/site-packages (from pyfolio<0.10,>=0.9->finrl==0.3.6) (8.16.1)\n",
      "Requirement already satisfied: matplotlib>=1.4.0 in /opt/homebrew/Caskroom/miniconda/base/envs/finRL/lib/python3.10/site-packages (from pyfolio<0.10,>=0.9->finrl==0.3.6) (3.8.0)\n",
      "Requirement already satisfied: pytz>=2014.10 in /opt/homebrew/Caskroom/miniconda/base/envs/finRL/lib/python3.10/site-packages (from pyfolio<0.10,>=0.9->finrl==0.3.6) (2023.3.post1)\n",
      "Requirement already satisfied: scipy>=0.14.0 in /opt/homebrew/Caskroom/miniconda/base/envs/finRL/lib/python3.10/site-packages (from pyfolio<0.10,>=0.9->finrl==0.3.6) (1.11.3)\n",
      "Requirement already satisfied: seaborn>=0.7.1 in /opt/homebrew/Caskroom/miniconda/base/envs/finRL/lib/python3.10/site-packages (from pyfolio<0.10,>=0.9->finrl==0.3.6) (0.13.0)\n",
      "Requirement already satisfied: empyrical>=0.5.0 in /opt/homebrew/Caskroom/miniconda/base/envs/finRL/lib/python3.10/site-packages (from pyfolio<0.10,>=0.9->finrl==0.3.6) (0.5.5)\n",
      "Requirement already satisfied: cvxpy<2.0.0,>=1.1.19 in /opt/homebrew/Caskroom/miniconda/base/envs/finRL/lib/python3.10/site-packages (from pyportfolioopt<2,>=1->finrl==0.3.6) (1.4.1)\n",
      "Requirement already satisfied: click>=7.0 in /opt/homebrew/Caskroom/miniconda/base/envs/finRL/lib/python3.10/site-packages (from ray[default,tune]<3,>=2->finrl==0.3.6) (8.1.7)\n",
      "Requirement already satisfied: filelock in /opt/homebrew/Caskroom/miniconda/base/envs/finRL/lib/python3.10/site-packages (from ray[default,tune]<3,>=2->finrl==0.3.6) (3.12.4)\n",
      "Requirement already satisfied: jsonschema in /opt/homebrew/Caskroom/miniconda/base/envs/finRL/lib/python3.10/site-packages (from ray[default,tune]<3,>=2->finrl==0.3.6) (4.19.1)\n",
      "Requirement already satisfied: protobuf!=3.19.5,>=3.15.3 in /opt/homebrew/Caskroom/miniconda/base/envs/finRL/lib/python3.10/site-packages (from ray[default,tune]<3,>=2->finrl==0.3.6) (4.24.4)\n",
      "Requirement already satisfied: tensorboardX>=1.9 in /opt/homebrew/Caskroom/miniconda/base/envs/finRL/lib/python3.10/site-packages (from ray[default,tune]<3,>=2->finrl==0.3.6) (2.6.2.2)\n",
      "Requirement already satisfied: pyarrow>=6.0.1 in /opt/homebrew/Caskroom/miniconda/base/envs/finRL/lib/python3.10/site-packages (from ray[default,tune]<3,>=2->finrl==0.3.6) (13.0.0)\n",
      "Requirement already satisfied: fsspec in /opt/homebrew/Caskroom/miniconda/base/envs/finRL/lib/python3.10/site-packages (from ray[default,tune]<3,>=2->finrl==0.3.6) (2023.9.2)\n",
      "Requirement already satisfied: aiohttp-cors in /opt/homebrew/Caskroom/miniconda/base/envs/finRL/lib/python3.10/site-packages (from ray[default,tune]<3,>=2->finrl==0.3.6) (0.7.0)\n",
      "Requirement already satisfied: colorful in /opt/homebrew/Caskroom/miniconda/base/envs/finRL/lib/python3.10/site-packages (from ray[default,tune]<3,>=2->finrl==0.3.6) (0.5.5)\n",
      "Requirement already satisfied: py-spy>=0.2.0 in /opt/homebrew/Caskroom/miniconda/base/envs/finRL/lib/python3.10/site-packages (from ray[default,tune]<3,>=2->finrl==0.3.6) (0.3.14)\n",
      "Requirement already satisfied: gpustat>=1.0.0 in /opt/homebrew/Caskroom/miniconda/base/envs/finRL/lib/python3.10/site-packages (from ray[default,tune]<3,>=2->finrl==0.3.6) (1.1.1)\n",
      "Requirement already satisfied: opencensus in /opt/homebrew/Caskroom/miniconda/base/envs/finRL/lib/python3.10/site-packages (from ray[default,tune]<3,>=2->finrl==0.3.6) (0.11.3)\n",
      "Requirement already satisfied: pydantic<2 in /opt/homebrew/Caskroom/miniconda/base/envs/finRL/lib/python3.10/site-packages (from ray[default,tune]<3,>=2->finrl==0.3.6) (1.10.13)\n",
      "Requirement already satisfied: prometheus-client>=0.7.1 in /opt/homebrew/Caskroom/miniconda/base/envs/finRL/lib/python3.10/site-packages (from ray[default,tune]<3,>=2->finrl==0.3.6) (0.17.1)\n",
      "Requirement already satisfied: smart-open in /opt/homebrew/Caskroom/miniconda/base/envs/finRL/lib/python3.10/site-packages (from ray[default,tune]<3,>=2->finrl==0.3.6) (6.4.0)\n",
      "Requirement already satisfied: virtualenv<20.21.1,>=20.0.24 in /opt/homebrew/Caskroom/miniconda/base/envs/finRL/lib/python3.10/site-packages (from ray[default,tune]<3,>=2->finrl==0.3.6) (20.21.0)\n",
      "Requirement already satisfied: grpcio>=1.42.0 in /opt/homebrew/Caskroom/miniconda/base/envs/finRL/lib/python3.10/site-packages (from ray[default,tune]<3,>=2->finrl==0.3.6) (1.59.0)\n",
      "Requirement already satisfied: joblib>=1.1.1 in /opt/homebrew/Caskroom/miniconda/base/envs/finRL/lib/python3.10/site-packages (from scikit-learn<2,>=1->finrl==0.3.6) (1.3.2)\n",
      "Requirement already satisfied: threadpoolctl>=2.0.0 in /opt/homebrew/Caskroom/miniconda/base/envs/finRL/lib/python3.10/site-packages (from scikit-learn<2,>=1->finrl==0.3.6) (3.2.0)\n",
      "Requirement already satisfied: gymnasium<0.30,>=0.28.1 in /opt/homebrew/Caskroom/miniconda/base/envs/finRL/lib/python3.10/site-packages (from stable-baselines3[extra]>=2.0.0a5->finrl==0.3.6) (0.29.1)\n",
      "Requirement already satisfied: torch>=1.13 in /opt/homebrew/Caskroom/miniconda/base/envs/finRL/lib/python3.10/site-packages (from stable-baselines3[extra]>=2.0.0a5->finrl==0.3.6) (2.1.0)\n",
      "Requirement already satisfied: cloudpickle in /opt/homebrew/Caskroom/miniconda/base/envs/finRL/lib/python3.10/site-packages (from stable-baselines3[extra]>=2.0.0a5->finrl==0.3.6) (2.2.1)\n",
      "Requirement already satisfied: opencv-python in /opt/homebrew/Caskroom/miniconda/base/envs/finRL/lib/python3.10/site-packages (from stable-baselines3[extra]>=2.0.0a5->finrl==0.3.6) (4.8.1.78)\n",
      "Requirement already satisfied: pygame in /opt/homebrew/Caskroom/miniconda/base/envs/finRL/lib/python3.10/site-packages (from stable-baselines3[extra]>=2.0.0a5->finrl==0.3.6) (2.1.0)\n",
      "Requirement already satisfied: tensorboard>=2.9.1 in /opt/homebrew/Caskroom/miniconda/base/envs/finRL/lib/python3.10/site-packages (from stable-baselines3[extra]>=2.0.0a5->finrl==0.3.6) (2.14.1)\n",
      "Requirement already satisfied: psutil in /opt/homebrew/Caskroom/miniconda/base/envs/finRL/lib/python3.10/site-packages (from stable-baselines3[extra]>=2.0.0a5->finrl==0.3.6) (5.9.0)\n",
      "Requirement already satisfied: tqdm in /opt/homebrew/Caskroom/miniconda/base/envs/finRL/lib/python3.10/site-packages (from stable-baselines3[extra]>=2.0.0a5->finrl==0.3.6) (4.66.1)\n",
      "Requirement already satisfied: rich in /opt/homebrew/Caskroom/miniconda/base/envs/finRL/lib/python3.10/site-packages (from stable-baselines3[extra]>=2.0.0a5->finrl==0.3.6) (13.6.0)\n",
      "Requirement already satisfied: shimmy[atari]~=1.1.0 in /opt/homebrew/Caskroom/miniconda/base/envs/finRL/lib/python3.10/site-packages (from stable-baselines3[extra]>=2.0.0a5->finrl==0.3.6) (1.1.0)\n",
      "Requirement already satisfied: pillow in /opt/homebrew/Caskroom/miniconda/base/envs/finRL/lib/python3.10/site-packages (from stable-baselines3[extra]>=2.0.0a5->finrl==0.3.6) (10.0.1)\n",
      "Requirement already satisfied: autorom[accept-rom-license]~=0.6.1 in /opt/homebrew/Caskroom/miniconda/base/envs/finRL/lib/python3.10/site-packages (from stable-baselines3[extra]>=2.0.0a5->finrl==0.3.6) (0.6.1)\n",
      "Requirement already satisfied: psycopg2-binary in /opt/homebrew/Caskroom/miniconda/base/envs/finRL/lib/python3.10/site-packages (from wrds<4,>=3->finrl==0.3.6) (2.9.9)\n",
      "Requirement already satisfied: multitasking>=0.0.7 in /opt/homebrew/Caskroom/miniconda/base/envs/finRL/lib/python3.10/site-packages (from yfinance<0.3,>=0.2->finrl==0.3.6) (0.0.11)\n",
      "Requirement already satisfied: lxml>=4.9.1 in /opt/homebrew/Caskroom/miniconda/base/envs/finRL/lib/python3.10/site-packages (from yfinance<0.3,>=0.2->finrl==0.3.6) (4.9.3)\n",
      "Requirement already satisfied: appdirs>=1.4.4 in /opt/homebrew/Caskroom/miniconda/base/envs/finRL/lib/python3.10/site-packages (from yfinance<0.3,>=0.2->finrl==0.3.6) (1.4.4)\n",
      "Requirement already satisfied: frozendict>=2.3.4 in /opt/homebrew/Caskroom/miniconda/base/envs/finRL/lib/python3.10/site-packages (from yfinance<0.3,>=0.2->finrl==0.3.6) (2.3.8)\n",
      "Requirement already satisfied: peewee>=3.16.2 in /opt/homebrew/Caskroom/miniconda/base/envs/finRL/lib/python3.10/site-packages (from yfinance<0.3,>=0.2->finrl==0.3.6) (3.17.0)\n",
      "Requirement already satisfied: beautifulsoup4>=4.11.1 in /opt/homebrew/Caskroom/miniconda/base/envs/finRL/lib/python3.10/site-packages (from yfinance<0.3,>=0.2->finrl==0.3.6) (4.12.2)\n",
      "Requirement already satisfied: html5lib>=1.1 in /opt/homebrew/Caskroom/miniconda/base/envs/finRL/lib/python3.10/site-packages (from yfinance<0.3,>=0.2->finrl==0.3.6) (1.1)\n",
      "Requirement already satisfied: gym in /opt/homebrew/Caskroom/miniconda/base/envs/finRL/lib/python3.10/site-packages (from elegantrl@ git+https://github.com/AI4Finance-Foundation/ElegantRL.git#egg=elegantrl->finrl==0.3.6) (0.26.2)\n",
      "Requirement already satisfied: pycares>=4.0.0 in /opt/homebrew/Caskroom/miniconda/base/envs/finRL/lib/python3.10/site-packages (from aiodns>=1.1.1->ccxt<4,>=3->finrl==0.3.6) (4.4.0)\n",
      "Requirement already satisfied: AutoROM.accept-rom-license in /opt/homebrew/Caskroom/miniconda/base/envs/finRL/lib/python3.10/site-packages (from autorom[accept-rom-license]~=0.6.1->stable-baselines3[extra]>=2.0.0a5->finrl==0.3.6) (0.6.1)\n",
      "Requirement already satisfied: soupsieve>1.2 in /opt/homebrew/Caskroom/miniconda/base/envs/finRL/lib/python3.10/site-packages (from beautifulsoup4>=4.11.1->yfinance<0.3,>=0.2->finrl==0.3.6) (2.5)\n",
      "Requirement already satisfied: cffi>=1.12 in /opt/homebrew/Caskroom/miniconda/base/envs/finRL/lib/python3.10/site-packages (from cryptography>=2.6.1->ccxt<4,>=3->finrl==0.3.6) (1.16.0)\n",
      "Requirement already satisfied: osqp>=0.6.2 in /opt/homebrew/Caskroom/miniconda/base/envs/finRL/lib/python3.10/site-packages (from cvxpy<2.0.0,>=1.1.19->pyportfolioopt<2,>=1->finrl==0.3.6) (0.6.3)\n",
      "Requirement already satisfied: ecos>=2 in /opt/homebrew/Caskroom/miniconda/base/envs/finRL/lib/python3.10/site-packages (from cvxpy<2.0.0,>=1.1.19->pyportfolioopt<2,>=1->finrl==0.3.6) (2.0.12)\n",
      "Requirement already satisfied: clarabel>=0.5.0 in /opt/homebrew/Caskroom/miniconda/base/envs/finRL/lib/python3.10/site-packages (from cvxpy<2.0.0,>=1.1.19->pyportfolioopt<2,>=1->finrl==0.3.6) (0.6.0)\n",
      "Requirement already satisfied: scs>=3.0 in /opt/homebrew/Caskroom/miniconda/base/envs/finRL/lib/python3.10/site-packages (from cvxpy<2.0.0,>=1.1.19->pyportfolioopt<2,>=1->finrl==0.3.6) (3.2.3)\n",
      "Requirement already satisfied: pybind11 in /opt/homebrew/Caskroom/miniconda/base/envs/finRL/lib/python3.10/site-packages (from cvxpy<2.0.0,>=1.1.19->pyportfolioopt<2,>=1->finrl==0.3.6) (2.11.1)\n",
      "Requirement already satisfied: pandas-datareader>=0.2 in /opt/homebrew/Caskroom/miniconda/base/envs/finRL/lib/python3.10/site-packages (from empyrical>=0.5.0->pyfolio<0.10,>=0.9->finrl==0.3.6) (0.10.0)\n",
      "Requirement already satisfied: nvidia-ml-py>=11.450.129 in /opt/homebrew/Caskroom/miniconda/base/envs/finRL/lib/python3.10/site-packages (from gpustat>=1.0.0->ray[default,tune]<3,>=2->finrl==0.3.6) (12.535.108)\n",
      "Requirement already satisfied: blessed>=1.17.1 in /opt/homebrew/Caskroom/miniconda/base/envs/finRL/lib/python3.10/site-packages (from gpustat>=1.0.0->ray[default,tune]<3,>=2->finrl==0.3.6) (1.20.0)\n",
      "Requirement already satisfied: typing-extensions>=4.3.0 in /opt/homebrew/Caskroom/miniconda/base/envs/finRL/lib/python3.10/site-packages (from gymnasium<0.30,>=0.28.1->stable-baselines3[extra]>=2.0.0a5->finrl==0.3.6) (4.8.0)\n",
      "Requirement already satisfied: farama-notifications>=0.0.1 in /opt/homebrew/Caskroom/miniconda/base/envs/finRL/lib/python3.10/site-packages (from gymnasium<0.30,>=0.28.1->stable-baselines3[extra]>=2.0.0a5->finrl==0.3.6) (0.0.4)\n",
      "Requirement already satisfied: webencodings in /opt/homebrew/Caskroom/miniconda/base/envs/finRL/lib/python3.10/site-packages (from html5lib>=1.1->yfinance<0.3,>=0.2->finrl==0.3.6) (0.5.1)\n",
      "Requirement already satisfied: backcall in /opt/homebrew/Caskroom/miniconda/base/envs/finRL/lib/python3.10/site-packages (from ipython>=3.2.3->pyfolio<0.10,>=0.9->finrl==0.3.6) (0.2.0)\n",
      "Requirement already satisfied: decorator in /opt/homebrew/Caskroom/miniconda/base/envs/finRL/lib/python3.10/site-packages (from ipython>=3.2.3->pyfolio<0.10,>=0.9->finrl==0.3.6) (5.1.1)\n",
      "Requirement already satisfied: jedi>=0.16 in /opt/homebrew/Caskroom/miniconda/base/envs/finRL/lib/python3.10/site-packages (from ipython>=3.2.3->pyfolio<0.10,>=0.9->finrl==0.3.6) (0.19.1)\n",
      "Requirement already satisfied: matplotlib-inline in /opt/homebrew/Caskroom/miniconda/base/envs/finRL/lib/python3.10/site-packages (from ipython>=3.2.3->pyfolio<0.10,>=0.9->finrl==0.3.6) (0.1.6)\n",
      "Requirement already satisfied: pickleshare in /opt/homebrew/Caskroom/miniconda/base/envs/finRL/lib/python3.10/site-packages (from ipython>=3.2.3->pyfolio<0.10,>=0.9->finrl==0.3.6) (0.7.5)\n",
      "Requirement already satisfied: prompt-toolkit!=3.0.37,<3.1.0,>=3.0.30 in /opt/homebrew/Caskroom/miniconda/base/envs/finRL/lib/python3.10/site-packages (from ipython>=3.2.3->pyfolio<0.10,>=0.9->finrl==0.3.6) (3.0.39)\n",
      "Requirement already satisfied: pygments>=2.4.0 in /opt/homebrew/Caskroom/miniconda/base/envs/finRL/lib/python3.10/site-packages (from ipython>=3.2.3->pyfolio<0.10,>=0.9->finrl==0.3.6) (2.16.1)\n",
      "Requirement already satisfied: stack-data in /opt/homebrew/Caskroom/miniconda/base/envs/finRL/lib/python3.10/site-packages (from ipython>=3.2.3->pyfolio<0.10,>=0.9->finrl==0.3.6) (0.6.2)\n",
      "Requirement already satisfied: traitlets>=5 in /opt/homebrew/Caskroom/miniconda/base/envs/finRL/lib/python3.10/site-packages (from ipython>=3.2.3->pyfolio<0.10,>=0.9->finrl==0.3.6) (5.11.2)\n",
      "Requirement already satisfied: exceptiongroup in /opt/homebrew/Caskroom/miniconda/base/envs/finRL/lib/python3.10/site-packages (from ipython>=3.2.3->pyfolio<0.10,>=0.9->finrl==0.3.6) (1.1.3)\n",
      "Requirement already satisfied: pexpect>4.3 in /opt/homebrew/Caskroom/miniconda/base/envs/finRL/lib/python3.10/site-packages (from ipython>=3.2.3->pyfolio<0.10,>=0.9->finrl==0.3.6) (4.8.0)\n",
      "Requirement already satisfied: appnope in /opt/homebrew/Caskroom/miniconda/base/envs/finRL/lib/python3.10/site-packages (from ipython>=3.2.3->pyfolio<0.10,>=0.9->finrl==0.3.6) (0.1.3)\n",
      "Requirement already satisfied: contourpy>=1.0.1 in /opt/homebrew/Caskroom/miniconda/base/envs/finRL/lib/python3.10/site-packages (from matplotlib>=1.4.0->pyfolio<0.10,>=0.9->finrl==0.3.6) (1.1.1)\n",
      "Requirement already satisfied: cycler>=0.10 in /opt/homebrew/Caskroom/miniconda/base/envs/finRL/lib/python3.10/site-packages (from matplotlib>=1.4.0->pyfolio<0.10,>=0.9->finrl==0.3.6) (0.12.1)\n",
      "Requirement already satisfied: fonttools>=4.22.0 in /opt/homebrew/Caskroom/miniconda/base/envs/finRL/lib/python3.10/site-packages (from matplotlib>=1.4.0->pyfolio<0.10,>=0.9->finrl==0.3.6) (4.43.1)\n",
      "Requirement already satisfied: kiwisolver>=1.0.1 in /opt/homebrew/Caskroom/miniconda/base/envs/finRL/lib/python3.10/site-packages (from matplotlib>=1.4.0->pyfolio<0.10,>=0.9->finrl==0.3.6) (1.4.5)\n",
      "Requirement already satisfied: pyparsing>=2.3.1 in /opt/homebrew/Caskroom/miniconda/base/envs/finRL/lib/python3.10/site-packages (from matplotlib>=1.4.0->pyfolio<0.10,>=0.9->finrl==0.3.6) (3.1.1)\n",
      "Requirement already satisfied: idna<4,>=2.5 in /opt/homebrew/Caskroom/miniconda/base/envs/finRL/lib/python3.10/site-packages (from requests<3,>2->alpaca-trade-api<4,>=3->finrl==0.3.6) (3.4)\n",
      "Requirement already satisfied: ale-py~=0.8.1 in /opt/homebrew/Caskroom/miniconda/base/envs/finRL/lib/python3.10/site-packages (from shimmy[atari]~=1.1.0->stable-baselines3[extra]>=2.0.0a5->finrl==0.3.6) (0.8.1)\n",
      "Requirement already satisfied: absl-py>=0.4 in /opt/homebrew/Caskroom/miniconda/base/envs/finRL/lib/python3.10/site-packages (from tensorboard>=2.9.1->stable-baselines3[extra]>=2.0.0a5->finrl==0.3.6) (2.0.0)\n",
      "Requirement already satisfied: google-auth<3,>=1.6.3 in /opt/homebrew/Caskroom/miniconda/base/envs/finRL/lib/python3.10/site-packages (from tensorboard>=2.9.1->stable-baselines3[extra]>=2.0.0a5->finrl==0.3.6) (2.23.3)\n",
      "Requirement already satisfied: google-auth-oauthlib<1.1,>=0.5 in /opt/homebrew/Caskroom/miniconda/base/envs/finRL/lib/python3.10/site-packages (from tensorboard>=2.9.1->stable-baselines3[extra]>=2.0.0a5->finrl==0.3.6) (1.0.0)\n",
      "Requirement already satisfied: markdown>=2.6.8 in /opt/homebrew/Caskroom/miniconda/base/envs/finRL/lib/python3.10/site-packages (from tensorboard>=2.9.1->stable-baselines3[extra]>=2.0.0a5->finrl==0.3.6) (3.5)\n",
      "Requirement already satisfied: tensorboard-data-server<0.8.0,>=0.7.0 in /opt/homebrew/Caskroom/miniconda/base/envs/finRL/lib/python3.10/site-packages (from tensorboard>=2.9.1->stable-baselines3[extra]>=2.0.0a5->finrl==0.3.6) (0.7.1)\n",
      "Requirement already satisfied: werkzeug>=1.0.1 in /opt/homebrew/Caskroom/miniconda/base/envs/finRL/lib/python3.10/site-packages (from tensorboard>=2.9.1->stable-baselines3[extra]>=2.0.0a5->finrl==0.3.6) (3.0.0)\n",
      "Requirement already satisfied: ply<4.0,>=3.4 in /opt/homebrew/Caskroom/miniconda/base/envs/finRL/lib/python3.10/site-packages (from thriftpy2>=0.3.9->jqdatasdk<2,>=1->finrl==0.3.6) (3.11)\n",
      "Requirement already satisfied: sympy in /opt/homebrew/Caskroom/miniconda/base/envs/finRL/lib/python3.10/site-packages (from torch>=1.13->stable-baselines3[extra]>=2.0.0a5->finrl==0.3.6) (1.12)\n",
      "Requirement already satisfied: networkx in /opt/homebrew/Caskroom/miniconda/base/envs/finRL/lib/python3.10/site-packages (from torch>=1.13->stable-baselines3[extra]>=2.0.0a5->finrl==0.3.6) (3.1)\n",
      "Requirement already satisfied: jinja2 in /opt/homebrew/Caskroom/miniconda/base/envs/finRL/lib/python3.10/site-packages (from torch>=1.13->stable-baselines3[extra]>=2.0.0a5->finrl==0.3.6) (3.1.2)\n",
      "Requirement already satisfied: distlib<1,>=0.3.6 in /opt/homebrew/Caskroom/miniconda/base/envs/finRL/lib/python3.10/site-packages (from virtualenv<20.21.1,>=20.0.24->ray[default,tune]<3,>=2->finrl==0.3.6) (0.3.7)\n",
      "Requirement already satisfied: platformdirs<4,>=2.4 in /opt/homebrew/Caskroom/miniconda/base/envs/finRL/lib/python3.10/site-packages (from virtualenv<20.21.1,>=20.0.24->ray[default,tune]<3,>=2->finrl==0.3.6) (3.11.0)\n",
      "Requirement already satisfied: gym-notices>=0.0.4 in /opt/homebrew/Caskroom/miniconda/base/envs/finRL/lib/python3.10/site-packages (from gym->elegantrl@ git+https://github.com/AI4Finance-Foundation/ElegantRL.git#egg=elegantrl->finrl==0.3.6) (0.0.8)\n",
      "Requirement already satisfied: box2d-py==2.3.5 in /opt/homebrew/Caskroom/miniconda/base/envs/finRL/lib/python3.10/site-packages (from gym->elegantrl@ git+https://github.com/AI4Finance-Foundation/ElegantRL.git#egg=elegantrl->finrl==0.3.6) (2.3.5)\n",
      "Requirement already satisfied: swig==4.* in /opt/homebrew/Caskroom/miniconda/base/envs/finRL/lib/python3.10/site-packages (from gym->elegantrl@ git+https://github.com/AI4Finance-Foundation/ElegantRL.git#egg=elegantrl->finrl==0.3.6) (4.1.1)\n",
      "Requirement already satisfied: jsonschema-specifications>=2023.03.6 in /opt/homebrew/Caskroom/miniconda/base/envs/finRL/lib/python3.10/site-packages (from jsonschema->ray[default,tune]<3,>=2->finrl==0.3.6) (2023.7.1)\n",
      "Requirement already satisfied: referencing>=0.28.4 in /opt/homebrew/Caskroom/miniconda/base/envs/finRL/lib/python3.10/site-packages (from jsonschema->ray[default,tune]<3,>=2->finrl==0.3.6) (0.30.2)\n",
      "Requirement already satisfied: rpds-py>=0.7.1 in /opt/homebrew/Caskroom/miniconda/base/envs/finRL/lib/python3.10/site-packages (from jsonschema->ray[default,tune]<3,>=2->finrl==0.3.6) (0.10.6)\n",
      "Requirement already satisfied: opencensus-context>=0.1.3 in /opt/homebrew/Caskroom/miniconda/base/envs/finRL/lib/python3.10/site-packages (from opencensus->ray[default,tune]<3,>=2->finrl==0.3.6) (0.1.3)\n",
      "Requirement already satisfied: google-api-core<3.0.0,>=1.0.0 in /opt/homebrew/Caskroom/miniconda/base/envs/finRL/lib/python3.10/site-packages (from opencensus->ray[default,tune]<3,>=2->finrl==0.3.6) (2.12.0)\n",
      "Requirement already satisfied: markdown-it-py>=2.2.0 in /opt/homebrew/Caskroom/miniconda/base/envs/finRL/lib/python3.10/site-packages (from rich->stable-baselines3[extra]>=2.0.0a5->finrl==0.3.6) (3.0.0)\n",
      "Requirement already satisfied: importlib-resources in /opt/homebrew/Caskroom/miniconda/base/envs/finRL/lib/python3.10/site-packages (from ale-py~=0.8.1->shimmy[atari]~=1.1.0->stable-baselines3[extra]>=2.0.0a5->finrl==0.3.6) (6.1.0)\n",
      "Requirement already satisfied: wcwidth>=0.1.4 in /opt/homebrew/Caskroom/miniconda/base/envs/finRL/lib/python3.10/site-packages (from blessed>=1.17.1->gpustat>=1.0.0->ray[default,tune]<3,>=2->finrl==0.3.6) (0.2.8)\n",
      "Requirement already satisfied: pycparser in /opt/homebrew/Caskroom/miniconda/base/envs/finRL/lib/python3.10/site-packages (from cffi>=1.12->cryptography>=2.6.1->ccxt<4,>=3->finrl==0.3.6) (2.21)\n",
      "Requirement already satisfied: googleapis-common-protos<2.0.dev0,>=1.56.2 in /opt/homebrew/Caskroom/miniconda/base/envs/finRL/lib/python3.10/site-packages (from google-api-core<3.0.0,>=1.0.0->opencensus->ray[default,tune]<3,>=2->finrl==0.3.6) (1.61.0)\n",
      "Requirement already satisfied: cachetools<6.0,>=2.0.0 in /opt/homebrew/Caskroom/miniconda/base/envs/finRL/lib/python3.10/site-packages (from google-auth<3,>=1.6.3->tensorboard>=2.9.1->stable-baselines3[extra]>=2.0.0a5->finrl==0.3.6) (5.3.1)\n",
      "Requirement already satisfied: pyasn1-modules>=0.2.1 in /opt/homebrew/Caskroom/miniconda/base/envs/finRL/lib/python3.10/site-packages (from google-auth<3,>=1.6.3->tensorboard>=2.9.1->stable-baselines3[extra]>=2.0.0a5->finrl==0.3.6) (0.3.0)\n",
      "Requirement already satisfied: rsa<5,>=3.1.4 in /opt/homebrew/Caskroom/miniconda/base/envs/finRL/lib/python3.10/site-packages (from google-auth<3,>=1.6.3->tensorboard>=2.9.1->stable-baselines3[extra]>=2.0.0a5->finrl==0.3.6) (4.9)\n",
      "Requirement already satisfied: requests-oauthlib>=0.7.0 in /opt/homebrew/Caskroom/miniconda/base/envs/finRL/lib/python3.10/site-packages (from google-auth-oauthlib<1.1,>=0.5->tensorboard>=2.9.1->stable-baselines3[extra]>=2.0.0a5->finrl==0.3.6) (1.3.1)\n",
      "Requirement already satisfied: parso<0.9.0,>=0.8.3 in /opt/homebrew/Caskroom/miniconda/base/envs/finRL/lib/python3.10/site-packages (from jedi>=0.16->ipython>=3.2.3->pyfolio<0.10,>=0.9->finrl==0.3.6) (0.8.3)\n",
      "Requirement already satisfied: mdurl~=0.1 in /opt/homebrew/Caskroom/miniconda/base/envs/finRL/lib/python3.10/site-packages (from markdown-it-py>=2.2.0->rich->stable-baselines3[extra]>=2.0.0a5->finrl==0.3.6) (0.1.2)\n",
      "Requirement already satisfied: qdldl in /opt/homebrew/Caskroom/miniconda/base/envs/finRL/lib/python3.10/site-packages (from osqp>=0.6.2->cvxpy<2.0.0,>=1.1.19->pyportfolioopt<2,>=1->finrl==0.3.6) (0.1.7.post0)\n",
      "Requirement already satisfied: ptyprocess>=0.5 in /opt/homebrew/Caskroom/miniconda/base/envs/finRL/lib/python3.10/site-packages (from pexpect>4.3->ipython>=3.2.3->pyfolio<0.10,>=0.9->finrl==0.3.6) (0.7.0)\n",
      "Requirement already satisfied: MarkupSafe>=2.1.1 in /opt/homebrew/Caskroom/miniconda/base/envs/finRL/lib/python3.10/site-packages (from werkzeug>=1.0.1->tensorboard>=2.9.1->stable-baselines3[extra]>=2.0.0a5->finrl==0.3.6) (2.1.3)\n",
      "Requirement already satisfied: executing>=1.2.0 in /opt/homebrew/Caskroom/miniconda/base/envs/finRL/lib/python3.10/site-packages (from stack-data->ipython>=3.2.3->pyfolio<0.10,>=0.9->finrl==0.3.6) (1.2.0)\n",
      "Requirement already satisfied: asttokens>=2.1.0 in /opt/homebrew/Caskroom/miniconda/base/envs/finRL/lib/python3.10/site-packages (from stack-data->ipython>=3.2.3->pyfolio<0.10,>=0.9->finrl==0.3.6) (2.4.0)\n",
      "Requirement already satisfied: pure-eval in /opt/homebrew/Caskroom/miniconda/base/envs/finRL/lib/python3.10/site-packages (from stack-data->ipython>=3.2.3->pyfolio<0.10,>=0.9->finrl==0.3.6) (0.2.2)\n",
      "Requirement already satisfied: mpmath>=0.19 in /opt/homebrew/Caskroom/miniconda/base/envs/finRL/lib/python3.10/site-packages (from sympy->torch>=1.13->stable-baselines3[extra]>=2.0.0a5->finrl==0.3.6) (1.3.0)\n",
      "Requirement already satisfied: pyasn1<0.6.0,>=0.4.6 in /opt/homebrew/Caskroom/miniconda/base/envs/finRL/lib/python3.10/site-packages (from pyasn1-modules>=0.2.1->google-auth<3,>=1.6.3->tensorboard>=2.9.1->stable-baselines3[extra]>=2.0.0a5->finrl==0.3.6) (0.5.0)\n",
      "Requirement already satisfied: oauthlib>=3.0.0 in /opt/homebrew/Caskroom/miniconda/base/envs/finRL/lib/python3.10/site-packages (from requests-oauthlib>=0.7.0->google-auth-oauthlib<1.1,>=0.5->tensorboard>=2.9.1->stable-baselines3[extra]>=2.0.0a5->finrl==0.3.6) (3.2.2)\n"
     ]
    }
   ],
   "source": [
    "## install required packages\n",
    "!pip install swig\n",
    "!pip install wrds\n",
    "!pip install pyportfolioopt\n",
    "## install finrl library\n",
    "!pip install git+https://github.com/AI4Finance-Foundation/FinRL.git"
   ]
  },
  {
   "cell_type": "code",
   "metadata": {
    "id": "mqfBOKz-qJYF",
    "ExecuteTime": {
     "end_time": "2024-08-27T05:17:30.391914Z",
     "start_time": "2024-08-27T05:17:24.715032Z"
    }
   },
   "source": [
    "import sys\n",
    "import pandas as pd\n",
    "import numpy as np\n",
    "import matplotlib.pyplot as plt\n",
    "\n",
    "from finrl.meta.preprocessor.yahoodownloader import YahooDownloader\n",
    "from finrl.meta.env_stock_trading.env_stocktrading import StockTradingEnv\n",
    "from finrl.agents.stablebaselines3.models import DRLAgent\n",
    "from stable_baselines3 import A2C, DDPG, PPO, SAC, TD3\n",
    "\n",
    "%matplotlib inline\n",
    "from finrl.config import INDICATORS, TRAINED_MODEL_DIR"
   ],
   "outputs": [],
   "execution_count": 1
  },
  {
   "cell_type": "code",
   "execution_count": null,
   "metadata": {
    "id": "kyv8fz5rqM7H"
   },
   "outputs": [],
   "source": []
  },
  {
   "cell_type": "markdown",
   "metadata": {
    "id": "mUF2P4hmqVjh"
   },
   "source": [
    "# Part 2. Backtesting"
   ]
  },
  {
   "cell_type": "markdown",
   "metadata": {
    "id": "BdU6qLsVWDxI"
   },
   "source": [
    "To backtest the agents, upload trade_data.csv in the same directory of this notebook. For Colab users, just upload trade_data.csv to the default directory."
   ]
  },
  {
   "cell_type": "code",
   "metadata": {
    "id": "mSjBHn_MZr4U",
    "ExecuteTime": {
     "end_time": "2024-08-27T05:17:35.413520Z",
     "start_time": "2024-08-27T05:17:35.151193Z"
    }
   },
   "source": [
    "train = pd.read_csv('train_data.csv')\n",
    "trade = pd.read_csv('trade_data.csv')\n",
    "\n",
    "# If you are not using the data generated from part 1 of this tutorial, make sure \n",
    "# it has the columns and index in the form that could be make into the environment. \n",
    "# Then you can comment and skip the following lines.\n",
    "train = train.set_index(train.columns[0])\n",
    "train.index.names = ['']\n",
    "trade = trade.set_index(trade.columns[0])\n",
    "trade.index.names = ['']"
   ],
   "outputs": [],
   "execution_count": 2
  },
  {
   "cell_type": "markdown",
   "metadata": {
    "id": "qu4Ey54b36oL"
   },
   "source": [
    "Then, upload the trained agent to the same directory, and set the corresponding variable to True."
   ]
  },
  {
   "cell_type": "code",
   "metadata": {
    "id": "Z_mVZM4IIa55",
    "ExecuteTime": {
     "end_time": "2024-08-27T05:18:23.544126Z",
     "start_time": "2024-08-27T05:18:23.536123Z"
    }
   },
   "source": [
    "if_using_a2c = True\n",
    "if_using_ddpg = True\n",
    "if_using_ppo = True\n",
    "if_using_td3 = True\n",
    "if_using_sac = True"
   ],
   "outputs": [],
   "execution_count": 3
  },
  {
   "cell_type": "markdown",
   "metadata": {
    "id": "73D4oRqAIkYj"
   },
   "source": [
    "Load the agents"
   ]
  },
  {
   "cell_type": "code",
   "metadata": {
    "id": "6CagrX0I36ZN",
    "ExecuteTime": {
     "end_time": "2024-08-27T10:51:01.524663Z",
     "start_time": "2024-08-27T10:50:56.855501Z"
    }
   },
   "source": [
    "trained_a2c = A2C.load(TRAINED_MODEL_DIR + \"/agent_a2c\") if if_using_a2c else None\n",
    "trained_ddpg = DDPG.load(TRAINED_MODEL_DIR + \"/agent_ddpg\") if if_using_ddpg else None\n",
    "trained_ppo = PPO.load(TRAINED_MODEL_DIR + \"/agent_ppo\") if if_using_ppo else None\n",
    "trained_td3 = TD3.load(TRAINED_MODEL_DIR + \"/agent_td3\") if if_using_td3 else None\n",
    "trained_sac = SAC.load(TRAINED_MODEL_DIR + \"/agent_sac\") if if_using_sac else None"
   ],
   "outputs": [],
   "execution_count": 11
  },
  {
   "cell_type": "markdown",
   "metadata": {
    "id": "U5mmgQF_h1jQ"
   },
   "source": [
    "### Trading (Out-of-sample Performance)\n",
    "\n",
    "We update periodically in order to take full advantage of the data, e.g., retrain quarterly, monthly or weekly. We also tune the parameters along the way, in this notebook we use the in-sample data from 2009-01 to 2020-07 to tune the parameters once, so there is some alpha decay here as the length of trade date extends. \n",
    "\n",
    "Numerous hyperparameters – e.g. the learning rate, the total number of samples to train on – influence the learning process and are usually determined by testing some variations."
   ]
  },
  {
   "cell_type": "code",
   "metadata": {
    "colab": {
     "base_uri": "https://localhost:8080/"
    },
    "id": "4H_w3SaBAkKU",
    "outputId": "fdaed3a7-d3a9-4cde-d194-ee4576057175",
    "ExecuteTime": {
     "end_time": "2024-08-27T11:01:56.720905Z",
     "start_time": "2024-08-27T11:01:56.712904Z"
    }
   },
   "source": [
    "stock_dimension = len(trade.tic.unique())\n",
    "state_space = 1 + 2*stock_dimension + len(INDICATORS)*stock_dimension\n",
    "print(f\"Stock Dimension: {stock_dimension}, State Space: {state_space}\")"
   ],
   "outputs": [
    {
     "name": "stdout",
     "output_type": "stream",
     "text": [
      "Stock Dimension: 29, State Space: 291\n"
     ]
    }
   ],
   "execution_count": 12
  },
  {
   "cell_type": "code",
   "metadata": {
    "id": "nKNmQMqGAknW",
    "ExecuteTime": {
     "end_time": "2024-08-27T11:04:02.004101Z",
     "start_time": "2024-08-27T11:04:01.995069Z"
    }
   },
   "source": [
    "buy_cost_list = sell_cost_list = [0.001] * stock_dimension\n",
    "num_stock_shares = [0] * stock_dimension\n",
    "\n",
    "env_kwargs = {\n",
    "    \"hmax\": 100,\n",
    "    \"initial_amount\": 1000000,\n",
    "    \"num_stock_shares\": num_stock_shares,\n",
    "    \"buy_cost_pct\": buy_cost_list,\n",
    "    \"sell_cost_pct\": sell_cost_list,\n",
    "    \"state_space\": state_space,\n",
    "    \"stock_dim\": stock_dimension,\n",
    "    \"tech_indicator_list\": INDICATORS,\n",
    "    \"action_space\": stock_dimension,\n",
    "    \"reward_scaling\": 1e-4\n",
    "}"
   ],
   "outputs": [],
   "execution_count": 13
  },
  {
   "cell_type": "code",
   "metadata": {
    "id": "cIqoV0GSI52v",
    "ExecuteTime": {
     "end_time": "2024-08-27T11:04:06.205754Z",
     "start_time": "2024-08-27T11:04:06.178766Z"
    }
   },
   "source": [
    "e_trade_gym = StockTradingEnv(df = trade, turbulence_threshold = 70,risk_indicator_col='vix', **env_kwargs)\n",
    "env_trade, obs_trade = e_trade_gym.get_sb_env()"
   ],
   "outputs": [],
   "execution_count": 14
  },
  {
   "cell_type": "code",
   "metadata": {
    "colab": {
     "base_uri": "https://localhost:8080/"
    },
    "id": "lbFchno5j3xs",
    "outputId": "44fffa47-3b47-4e7b-96c2-0a485e9efead",
    "ExecuteTime": {
     "end_time": "2024-08-27T11:04:19.447335Z",
     "start_time": "2024-08-27T11:04:10.332648Z"
    }
   },
   "source": [
    "df_account_value_a2c, df_actions_a2c = DRLAgent.DRL_prediction(\n",
    "    model=trained_a2c, \n",
    "    environment = e_trade_gym) if if_using_a2c else (None, None)"
   ],
   "outputs": [
    {
     "name": "stdout",
     "output_type": "stream",
     "text": [
      "hit end!\n"
     ]
    }
   ],
   "execution_count": 15
  },
  {
   "cell_type": "code",
   "metadata": {
    "id": "JbYljWGjj3pH",
    "ExecuteTime": {
     "end_time": "2024-08-27T11:13:42.757042Z",
     "start_time": "2024-08-27T11:13:41.119491Z"
    }
   },
   "source": [
    "df_account_value_ddpg, df_actions_ddpg = DRLAgent.DRL_prediction(\n",
    "    model=trained_ddpg, \n",
    "    environment = e_trade_gym) if if_using_ddpg else (None, None)"
   ],
   "outputs": [
    {
     "name": "stdout",
     "output_type": "stream",
     "text": [
      "hit end!\n"
     ]
    }
   ],
   "execution_count": 16
  },
  {
   "cell_type": "code",
   "metadata": {
    "id": "74jNP2DBj3hb",
    "ExecuteTime": {
     "end_time": "2024-08-27T11:13:44.622098Z",
     "start_time": "2024-08-27T11:13:42.891731Z"
    }
   },
   "source": [
    "df_account_value_ppo, df_actions_ppo = DRLAgent.DRL_prediction(\n",
    "    model=trained_ppo, \n",
    "    environment = e_trade_gym) if if_using_ppo else (None, None)"
   ],
   "outputs": [
    {
     "name": "stdout",
     "output_type": "stream",
     "text": [
      "hit end!\n"
     ]
    }
   ],
   "execution_count": 17
  },
  {
   "cell_type": "code",
   "metadata": {
    "id": "S7VyGGJPj3SH",
    "ExecuteTime": {
     "end_time": "2024-08-27T11:13:46.138451Z",
     "start_time": "2024-08-27T11:13:44.724367Z"
    }
   },
   "source": [
    "df_account_value_td3, df_actions_td3 = DRLAgent.DRL_prediction(\n",
    "    model=trained_td3, \n",
    "    environment = e_trade_gym) if if_using_td3 else (None, None)"
   ],
   "outputs": [
    {
     "name": "stdout",
     "output_type": "stream",
     "text": [
      "hit end!\n"
     ]
    }
   ],
   "execution_count": 18
  },
  {
   "cell_type": "code",
   "metadata": {
    "colab": {
     "base_uri": "https://localhost:8080/"
    },
    "id": "eLOnL5eYh1jR",
    "outputId": "70e50e24-aed5-49f9-cdd7-de6b9689d9ce",
    "ExecuteTime": {
     "end_time": "2024-08-27T11:13:47.885552Z",
     "start_time": "2024-08-27T11:13:46.292569Z"
    }
   },
   "source": [
    "df_account_value_sac, df_actions_sac = DRLAgent.DRL_prediction(\n",
    "    model=trained_sac, \n",
    "    environment = e_trade_gym) if if_using_sac else (None, None)"
   ],
   "outputs": [
    {
     "name": "stdout",
     "output_type": "stream",
     "text": [
      "hit end!\n"
     ]
    }
   ],
   "execution_count": 19
  },
  {
   "cell_type": "markdown",
   "metadata": {
    "id": "GcE-t08w6DaW"
   },
   "source": [
    "# Part 3: Mean Variance Optimization"
   ]
  },
  {
   "cell_type": "markdown",
   "metadata": {
    "id": "17TUs71EWj09"
   },
   "source": [
    "Mean Variance optimization is a very classic strategy in portfolio management. Here, we go through the whole process to do the mean variance optimization and add it as a baseline to compare.\n",
    "\n",
    "First, process dataframe to the form for MVO weight calculation."
   ]
  },
  {
   "cell_type": "code",
   "metadata": {
    "id": "wungSNOwPwKR",
    "ExecuteTime": {
     "end_time": "2024-08-27T11:47:04.231900Z",
     "start_time": "2024-08-27T11:47:04.211892Z"
    }
   },
   "source": [
    "def process_df_for_mvo(df):\n",
    "  df = df.sort_values(['date','tic'],ignore_index=True)[['date','tic','close']]\n",
    "  fst = df\n",
    "  fst = fst.iloc[0:stock_dimension, :]\n",
    "  tic = fst['tic'].tolist()\n",
    "\n",
    "  mvo = pd.DataFrame()\n",
    "\n",
    "  for k in range(len(tic)):\n",
    "    mvo[tic[k]] = 0\n",
    "\n",
    "  for i in range(df.shape[0]//stock_dimension): # 日期\n",
    "    n = df\n",
    "    n = n.iloc[i * stock_dimension:(i+1) * stock_dimension, :] # 当前日期的数据\n",
    "    date = n['date'][i*stock_dimension]\n",
    "    mvo.loc[date] = n['close'].tolist() # 当前日期的收盘价\n",
    "  \n",
    "  return mvo"
   ],
   "outputs": [],
   "execution_count": 20
  },
  {
   "cell_type": "markdown",
   "metadata": {
    "id": "SwEwkHJ1d_6u"
   },
   "source": [
    "### Helper functions for mean returns and variance-covariance matrix"
   ]
  },
  {
   "cell_type": "code",
   "metadata": {
    "id": "6KvXkpyE8MFq",
    "ExecuteTime": {
     "end_time": "2024-08-27T11:52:20.673095Z",
     "start_time": "2024-08-27T11:52:20.661038Z"
    }
   },
   "source": [
    "# Codes in this section partially refer to Dr G A Vijayalakshmi Pai\n",
    "\n",
    "# https://www.kaggle.com/code/vijipai/lesson-5-mean-variance-optimization-of-portfolios/notebook\n",
    "\n",
    "def StockReturnsComputing(StockPrice, Rows, Columns): \n",
    "  import numpy as np \n",
    "  StockReturn = np.zeros([Rows-1, Columns]) \n",
    "  for j in range(Columns):        # j: Assets \n",
    "    for i in range(Rows-1):     # i: Daily Prices \n",
    "      StockReturn[i,j]=((StockPrice[i+1, j]-StockPrice[i,j])/StockPrice[i,j])* 100 \n",
    "      \n",
    "  return StockReturn"
   ],
   "outputs": [],
   "execution_count": 21
  },
  {
   "cell_type": "markdown",
   "metadata": {
    "id": "IeVVbuwveJ_5"
   },
   "source": [
    "### Calculate the weights for mean-variance"
   ]
  },
  {
   "cell_type": "code",
   "metadata": {
    "colab": {
     "base_uri": "https://localhost:8080/"
    },
    "id": "kE8nruKLQYLO",
    "outputId": "42d07c80-f309-49f8-f2b4-36a51987086f",
    "ExecuteTime": {
     "end_time": "2024-08-27T11:52:25.227660Z",
     "start_time": "2024-08-27T11:52:22.314057Z"
    }
   },
   "source": [
    "StockData = process_df_for_mvo(train)\n",
    "TradeData = process_df_for_mvo(trade)\n",
    "\n",
    "TradeData.to_numpy()"
   ],
   "outputs": [
    {
     "data": {
      "text/plain": [
       "array([[ 88.79605865, 223.82112122,  89.22908783, ...,  43.03611755,\n",
       "         32.67216492,  37.42457199],\n",
       "       [ 88.79605865, 226.55834961,  89.49471283, ...,  43.13057709,\n",
       "         33.55130768,  37.27448654],\n",
       "       [ 91.17136383, 224.8125    ,  91.6293869 , ...,  43.4848175 ,\n",
       "         34.49438858,  37.17442322],\n",
       "       ...,\n",
       "       [146.19194031, 188.75012207, 175.71214294, ...,  44.21860886,\n",
       "         41.40029907,  47.84506989],\n",
       "       [146.86076355, 189.70466614, 174.40138245, ...,  44.63909912,\n",
       "         40.63487244,  47.42739487],\n",
       "       [146.39849854, 187.79559326, 171.58705139, ...,  44.26065826,\n",
       "         39.63393402,  47.038414  ]])"
      ]
     },
     "execution_count": 22,
     "metadata": {},
     "output_type": "execute_result"
    }
   ],
   "execution_count": 22
  },
  {
   "cell_type": "code",
   "metadata": {
    "colab": {
     "base_uri": "https://localhost:8080/"
    },
    "id": "u6_O6vrn_uD4",
    "outputId": "0c2f8bf7-07e7-4fe5-c409-93312b95a8dd",
    "ExecuteTime": {
     "end_time": "2024-08-27T11:53:16.494597Z",
     "start_time": "2024-08-27T11:53:16.403533Z"
    }
   },
   "source": [
    "#compute asset returns\n",
    "arStockPrices = np.asarray(StockData)\n",
    "[Rows, Cols]=arStockPrices.shape\n",
    "arReturns = StockReturnsComputing(arStockPrices, Rows, Cols)\n",
    "\n",
    "#compute mean returns and variance covariance matrix of returns\n",
    "meanReturns = np.mean(arReturns, axis = 0)\n",
    "covReturns = np.cov(arReturns, rowvar=False)\n",
    " \n",
    "#set precision for printing results\n",
    "np.set_printoptions(precision=3, suppress = True)\n",
    "\n",
    "#display mean returns and variance-covariance matrix of returns\n",
    "print('Mean returns of assets in k-portfolio 1\\n', meanReturns)\n",
    "print('Variance-Covariance matrix of returns\\n', covReturns)"
   ],
   "outputs": [
    {
     "name": "stdout",
     "output_type": "stream",
     "text": [
      "Mean returns of assets in k-portfolio 1\n",
      " [0.136 0.068 0.086 0.083 0.066 0.134 0.06  0.035 0.072 0.056 0.103 0.073\n",
      " 0.033 0.076 0.047 0.073 0.042 0.056 0.054 0.056 0.103 0.089 0.041 0.053\n",
      " 0.104 0.11  0.044 0.042 0.042]\n",
      "Variance-Covariance matrix of returns\n",
      " [[3.156 1.066 1.768 1.669 1.722 1.814 1.569 1.302 1.302 1.811 1.303 1.432\n",
      "  1.218 1.674 0.74  1.839 0.719 0.884 1.241 0.823 1.561 1.324 0.752 1.027\n",
      "  1.298 1.466 0.657 1.078 0.631]\n",
      " [1.066 2.571 1.306 1.123 1.193 1.319 1.116 1.053 1.045 1.269 1.068 1.089\n",
      "  0.899 1.218 0.926 1.391 0.682 0.727 1.025 1.156 1.166 0.984 0.798 0.956\n",
      "  1.259 1.111 0.688 1.091 0.682]\n",
      " [1.768 1.306 4.847 2.73  2.6   2.128 1.944 2.141 2.17  3.142 1.932 2.283\n",
      "  1.56  2.012 0.993 3.707 1.094 1.319 1.845 1.236 1.899 1.894 1.041 1.921\n",
      "  1.823 2.314 0.986 1.421 0.707]\n",
      " [1.669 1.123 2.73  4.892 2.363 1.979 1.7   2.115 1.959 2.387 1.773 2.319\n",
      "  1.571 1.797 0.968 2.597 1.144 1.298 1.643 1.071 1.615 1.775 0.91  1.666\n",
      "  1.707 1.784 0.82  1.345 0.647]\n",
      " [1.722 1.193 2.6   2.363 4.019 2.127 1.917 2.059 1.817 2.46  1.577 2.238\n",
      "  1.513 1.929 0.925 2.64  0.947 0.971 1.894 1.089 1.711 1.642 0.865 1.456\n",
      "  1.478 1.687 0.92  1.326 0.697]\n",
      " [1.814 1.319 2.128 1.979 2.127 5.384 1.974 1.549 1.683 2.122 1.624 1.771\n",
      "  1.441 1.939 0.846 2.191 0.837 1.075 1.475 1.041 1.978 1.768 0.784 1.328\n",
      "  1.365 1.912 0.787 1.28  0.666]\n",
      " [1.569 1.116 1.944 1.7   1.917 1.974 3.081 1.483 1.534 1.937 1.367 1.62\n",
      "  1.399 1.843 0.894 2.057 0.794 0.905 1.438 1.014 1.72  1.382 0.865 1.206\n",
      "  1.273 1.488 0.811 1.173 0.753]\n",
      " [1.302 1.053 2.141 2.115 2.059 1.549 1.483 2.842 1.525 2.044 1.428 1.783\n",
      "  1.308 1.533 0.878 2.279 0.938 1.092 1.385 1.078 1.429 1.314 0.831 1.459\n",
      "  1.466 1.48  0.83  1.042 0.567]\n",
      " [1.302 1.045 2.17  1.959 1.817 1.683 1.534 1.525 2.661 1.987 1.454 1.748\n",
      "  1.217 1.475 0.791 2.216 0.896 0.973 1.396 0.949 1.379 1.407 0.859 1.268\n",
      "  1.281 1.454 0.81  1.143 0.667]\n",
      " [1.811 1.269 3.142 2.387 2.46  2.122 1.937 2.044 1.987 4.407 1.789 2.12\n",
      "  1.593 1.982 0.945 3.96  0.956 1.094 1.758 1.157 1.788 1.692 0.905 1.879\n",
      "  1.712 2.    0.945 1.421 0.713]\n",
      " [1.303 1.068 1.932 1.773 1.577 1.624 1.367 1.428 1.454 1.789 2.373 1.51\n",
      "  1.166 1.501 0.756 1.941 0.824 0.998 1.239 0.887 1.366 1.414 0.797 1.299\n",
      "  1.296 1.41  0.764 1.071 0.783]\n",
      " [1.432 1.089 2.283 2.319 2.238 1.771 1.62  1.783 1.748 2.12  1.51  2.516\n",
      "  1.326 1.575 0.889 2.345 0.958 1.022 1.623 1.02  1.489 1.532 0.848 1.377\n",
      "  1.444 1.547 0.81  1.211 0.63 ]\n",
      " [1.218 0.899 1.56  1.571 1.513 1.441 1.399 1.308 1.217 1.593 1.166 1.326\n",
      "  2.052 1.399 0.727 1.749 0.786 0.795 1.154 0.829 1.296 1.12  0.743 1.105\n",
      "  1.088 1.214 0.739 0.998 0.598]\n",
      " [1.674 1.218 2.012 1.797 1.929 1.939 1.843 1.533 1.475 1.982 1.501 1.575\n",
      "  1.399 3.289 0.853 2.112 0.85  0.89  1.412 1.002 1.9   1.352 0.842 1.317\n",
      "  1.334 1.487 0.847 1.165 0.766]\n",
      " [0.74  0.926 0.993 0.968 0.925 0.846 0.894 0.878 0.791 0.945 0.756 0.889\n",
      "  0.727 0.853 1.153 1.027 0.642 0.59  0.848 0.892 0.825 0.748 0.694 0.761\n",
      "  0.929 0.819 0.61  0.806 0.547]\n",
      " [1.839 1.391 3.707 2.597 2.64  2.191 2.057 2.279 2.216 3.96  1.941 2.345\n",
      "  1.749 2.112 1.027 5.271 1.08  1.235 1.892 1.297 1.91  1.85  1.068 2.164\n",
      "  1.85  2.169 1.112 1.555 0.779]\n",
      " [0.719 0.682 1.094 1.144 0.947 0.837 0.794 0.938 0.896 0.956 0.824 0.958\n",
      "  0.786 0.85  0.642 1.08  1.264 0.679 0.804 0.74  0.819 0.845 0.749 0.891\n",
      "  0.849 0.794 0.633 0.719 0.514]\n",
      " [0.884 0.727 1.319 1.298 0.971 1.075 0.905 1.092 0.973 1.094 0.998 1.022\n",
      "  0.795 0.89  0.59  1.235 0.679 1.518 0.816 0.719 0.943 1.027 0.615 1.\n",
      "  0.947 0.994 0.533 0.673 0.504]\n",
      " [1.241 1.025 1.845 1.643 1.894 1.475 1.438 1.385 1.396 1.758 1.239 1.623\n",
      "  1.154 1.412 0.848 1.892 0.804 0.816 2.028 0.9   1.265 1.243 0.787 1.194\n",
      "  1.193 1.282 0.752 1.099 0.622]\n",
      " [0.823 1.156 1.236 1.071 1.089 1.041 1.014 1.078 0.949 1.157 0.887 1.02\n",
      "  0.829 1.002 0.892 1.297 0.74  0.719 0.9   2.007 0.952 0.849 0.732 1.008\n",
      "  1.15  0.933 0.722 0.897 0.614]\n",
      " [1.561 1.166 1.899 1.615 1.711 1.978 1.72  1.429 1.379 1.788 1.366 1.489\n",
      "  1.296 1.9   0.825 1.91  0.819 0.943 1.265 0.952 2.759 1.308 0.832 1.214\n",
      "  1.285 1.493 0.793 1.113 0.705]\n",
      " [1.324 0.984 1.894 1.775 1.642 1.768 1.382 1.314 1.407 1.692 1.414 1.532\n",
      "  1.12  1.352 0.748 1.85  0.845 1.027 1.243 0.849 1.308 2.864 0.751 1.153\n",
      "  1.26  1.411 0.71  1.046 0.651]\n",
      " [0.752 0.798 1.041 0.91  0.865 0.784 0.865 0.831 0.859 0.905 0.797 0.848\n",
      "  0.743 0.842 0.694 1.068 0.749 0.615 0.787 0.732 0.832 0.751 1.289 0.806\n",
      "  0.766 0.763 0.663 0.797 0.645]\n",
      " [1.027 0.956 1.921 1.666 1.456 1.328 1.206 1.459 1.268 1.879 1.299 1.377\n",
      "  1.105 1.317 0.761 2.164 0.891 1.    1.194 1.008 1.214 1.153 0.806 2.27\n",
      "  1.259 1.294 0.812 0.986 0.676]\n",
      " [1.298 1.259 1.823 1.707 1.478 1.365 1.273 1.466 1.281 1.712 1.296 1.444\n",
      "  1.088 1.334 0.929 1.85  0.849 0.947 1.193 1.15  1.285 1.26  0.766 1.259\n",
      "  3.352 1.267 0.697 1.137 0.685]\n",
      " [1.466 1.111 2.314 1.784 1.687 1.912 1.488 1.48  1.454 2.    1.41  1.547\n",
      "  1.214 1.487 0.819 2.169 0.794 0.994 1.282 0.933 1.493 1.411 0.763 1.294\n",
      "  1.267 2.982 0.709 1.007 0.656]\n",
      " [0.657 0.688 0.986 0.82  0.92  0.787 0.811 0.83  0.81  0.945 0.764 0.81\n",
      "  0.739 0.847 0.61  1.112 0.633 0.533 0.752 0.722 0.793 0.71  0.663 0.812\n",
      "  0.697 0.709 1.371 0.697 0.561]\n",
      " [1.078 1.091 1.421 1.345 1.326 1.28  1.173 1.042 1.143 1.421 1.071 1.211\n",
      "  0.998 1.165 0.806 1.555 0.719 0.673 1.099 0.897 1.113 1.046 0.797 0.986\n",
      "  1.137 1.007 0.697 3.073 0.759]\n",
      " [0.631 0.682 0.707 0.647 0.697 0.666 0.753 0.567 0.667 0.713 0.783 0.63\n",
      "  0.598 0.766 0.547 0.779 0.514 0.504 0.622 0.614 0.705 0.651 0.645 0.676\n",
      "  0.685 0.656 0.561 0.759 1.452]]\n"
     ]
    }
   ],
   "execution_count": 23
  },
  {
   "cell_type": "markdown",
   "metadata": {
    "id": "zC7r-cI8RR1X"
   },
   "source": [
    "### Use PyPortfolioOpt"
   ]
  },
  {
   "cell_type": "code",
   "metadata": {
    "colab": {
     "base_uri": "https://localhost:8080/"
    },
    "id": "b1btTONEdCU4",
    "outputId": "75096462-7dfb-4ce6-c6f4-4671f11e79fc",
    "ExecuteTime": {
     "end_time": "2024-08-27T11:53:33.583659Z",
     "start_time": "2024-08-27T11:53:32.185466Z"
    }
   },
   "source": [
    "from pypfopt.efficient_frontier import EfficientFrontier\n",
    "\n",
    "ef_mean = EfficientFrontier(meanReturns, covReturns, weight_bounds=(0, 0.5)) \n",
    "raw_weights_mean = ef_mean.max_sharpe()\n",
    "cleaned_weights_mean = ef_mean.clean_weights()\n",
    "mvo_weights = np.array([1000000 * cleaned_weights_mean[i] for i in range(29)])\n",
    "mvo_weights"
   ],
   "outputs": [
    {
     "data": {
      "text/plain": [
       "array([424250.,      0.,      0.,      0.,      0., 108650.,      0.,\n",
       "            0.,      0.,      0., 181450.,      0.,      0.,      0.,\n",
       "            0.,      0.,      0.,      0.,      0.,      0.,  16960.,\n",
       "            0.,      0.,      0., 133540., 135150.,      0.,      0.,\n",
       "            0.])"
      ]
     },
     "execution_count": 24,
     "metadata": {},
     "output_type": "execute_result"
    }
   ],
   "execution_count": 24
  },
  {
   "cell_type": "code",
   "metadata": {
    "colab": {
     "base_uri": "https://localhost:8080/"
    },
    "id": "F38NJRJJgOmj",
    "outputId": "f575651b-1e9b-4015-ae71-c9fc2c3a3dae",
    "ExecuteTime": {
     "end_time": "2024-08-27T11:54:12.554479Z",
     "start_time": "2024-08-27T11:54:12.534443Z"
    }
   },
   "source": [
    "LastPrice = np.array([1/p for p in StockData.tail(1).to_numpy()[0]])\n",
    "Initial_Portfolio = np.multiply(mvo_weights, LastPrice)\n",
    "Initial_Portfolio"
   ],
   "outputs": [
    {
     "data": {
      "text/plain": [
       "array([4768.765,    0.   ,    0.   ,    0.   ,    0.   ,  581.654,\n",
       "          0.   ,    0.   ,    0.   ,    0.   ,  797.749,    0.   ,\n",
       "          0.   ,    0.   ,    0.   ,    0.   ,    0.   ,    0.   ,\n",
       "          0.   ,    0.   ,   86.477,    0.   ,    0.   ,    0.   ,\n",
       "        479.552,  721.167,    0.   ,    0.   ,    0.   ])"
      ]
     },
     "execution_count": 25,
     "metadata": {},
     "output_type": "execute_result"
    }
   ],
   "execution_count": 25
  },
  {
   "cell_type": "code",
   "metadata": {
    "id": "ZAd1iXqZhQ6X",
    "ExecuteTime": {
     "end_time": "2024-08-27T11:54:24.795614Z",
     "start_time": "2024-08-27T11:54:24.771619Z"
    }
   },
   "source": [
    "Portfolio_Assets = TradeData @ Initial_Portfolio\n",
    "MVO_result = pd.DataFrame(Portfolio_Assets, columns=[\"Mean Var\"])\n",
    "# MVO_result"
   ],
   "outputs": [
    {
     "data": {
      "text/plain": [
       "                Mean Var\n",
       "2020-07-01  1.001917e+06\n",
       "2020-07-02  1.004235e+06\n",
       "2020-07-06  1.023225e+06\n",
       "2020-07-07  1.014021e+06\n",
       "2020-07-08  1.029461e+06\n",
       "...                  ...\n",
       "2021-10-21  1.533022e+06\n",
       "2021-10-22  1.535668e+06\n",
       "2021-10-25  1.542078e+06\n",
       "2021-10-26  1.545514e+06\n",
       "2021-10-27  1.534916e+06\n",
       "\n",
       "[335 rows x 1 columns]"
      ],
      "text/html": [
       "<div>\n",
       "<style scoped>\n",
       "    .dataframe tbody tr th:only-of-type {\n",
       "        vertical-align: middle;\n",
       "    }\n",
       "\n",
       "    .dataframe tbody tr th {\n",
       "        vertical-align: top;\n",
       "    }\n",
       "\n",
       "    .dataframe thead th {\n",
       "        text-align: right;\n",
       "    }\n",
       "</style>\n",
       "<table border=\"1\" class=\"dataframe\">\n",
       "  <thead>\n",
       "    <tr style=\"text-align: right;\">\n",
       "      <th></th>\n",
       "      <th>Mean Var</th>\n",
       "    </tr>\n",
       "  </thead>\n",
       "  <tbody>\n",
       "    <tr>\n",
       "      <th>2020-07-01</th>\n",
       "      <td>1.001917e+06</td>\n",
       "    </tr>\n",
       "    <tr>\n",
       "      <th>2020-07-02</th>\n",
       "      <td>1.004235e+06</td>\n",
       "    </tr>\n",
       "    <tr>\n",
       "      <th>2020-07-06</th>\n",
       "      <td>1.023225e+06</td>\n",
       "    </tr>\n",
       "    <tr>\n",
       "      <th>2020-07-07</th>\n",
       "      <td>1.014021e+06</td>\n",
       "    </tr>\n",
       "    <tr>\n",
       "      <th>2020-07-08</th>\n",
       "      <td>1.029461e+06</td>\n",
       "    </tr>\n",
       "    <tr>\n",
       "      <th>...</th>\n",
       "      <td>...</td>\n",
       "    </tr>\n",
       "    <tr>\n",
       "      <th>2021-10-21</th>\n",
       "      <td>1.533022e+06</td>\n",
       "    </tr>\n",
       "    <tr>\n",
       "      <th>2021-10-22</th>\n",
       "      <td>1.535668e+06</td>\n",
       "    </tr>\n",
       "    <tr>\n",
       "      <th>2021-10-25</th>\n",
       "      <td>1.542078e+06</td>\n",
       "    </tr>\n",
       "    <tr>\n",
       "      <th>2021-10-26</th>\n",
       "      <td>1.545514e+06</td>\n",
       "    </tr>\n",
       "    <tr>\n",
       "      <th>2021-10-27</th>\n",
       "      <td>1.534916e+06</td>\n",
       "    </tr>\n",
       "  </tbody>\n",
       "</table>\n",
       "<p>335 rows × 1 columns</p>\n",
       "</div>"
      ]
     },
     "execution_count": 27,
     "metadata": {},
     "output_type": "execute_result"
    }
   ],
   "execution_count": 27
  },
  {
   "cell_type": "markdown",
   "metadata": {
    "id": "I5sgGe7g1HsL"
   },
   "source": [
    "# Part 4: DJIA index"
   ]
  },
  {
   "cell_type": "markdown",
   "metadata": {
    "id": "sVe_ufxTY2CW"
   },
   "source": [
    "Add DJIA index as a baseline to compare with."
   ]
  },
  {
   "cell_type": "code",
   "metadata": {
    "id": "sACPzsI-6k8q",
    "ExecuteTime": {
     "end_time": "2024-08-27T11:54:40.530252Z",
     "start_time": "2024-08-27T11:54:40.516261Z"
    }
   },
   "source": [
    "TRAIN_START_DATE = '2009-01-01'\n",
    "TRAIN_END_DATE = '2020-07-01'\n",
    "TRADE_START_DATE = '2020-07-01'\n",
    "TRADE_END_DATE = '2021-10-29'"
   ],
   "outputs": [],
   "execution_count": 28
  },
  {
   "cell_type": "code",
   "metadata": {
    "colab": {
     "base_uri": "https://localhost:8080/"
    },
    "id": "TuszW-OB1K0m",
    "outputId": "b89a8350-de58-4fea-8e4b-856efa872712",
    "ExecuteTime": {
     "end_time": "2024-08-27T11:54:42.957884Z",
     "start_time": "2024-08-27T11:54:41.934388Z"
    }
   },
   "source": [
    "df_dji = YahooDownloader(start_date = TRADE_START_DATE,\n",
    "                     end_date = TRADE_END_DATE,\n",
    "                     ticker_list = ['dji']).fetch_data()\n",
    "# df_dji"
   ],
   "outputs": [
    {
     "name": "stderr",
     "output_type": "stream",
     "text": [
      "[*********************100%%**********************]  1 of 1 completed"
     ]
    },
    {
     "name": "stdout",
     "output_type": "stream",
     "text": [
      "Shape of DataFrame:  (319, 8)\n"
     ]
    },
    {
     "name": "stderr",
     "output_type": "stream",
     "text": [
      "\n"
     ]
    }
   ],
   "execution_count": 29
  },
  {
   "cell_type": "code",
   "metadata": {
    "id": "Q3RXz72U1VbV",
    "ExecuteTime": {
     "end_time": "2024-08-27T11:54:48.329283Z",
     "start_time": "2024-08-27T11:54:48.310288Z"
    }
   },
   "source": [
    "df_dji = df_dji[['date','close']]\n",
    "fst_day = df_dji['close'][0]\n",
    "dji = pd.merge(df_dji['date'], df_dji['close'].div(fst_day).mul(1000000), \n",
    "               how='outer', left_index=True, right_index=True).set_index('date')\n",
    "# dji"
   ],
   "outputs": [],
   "execution_count": 30
  },
  {
   "cell_type": "markdown",
   "metadata": {
    "id": "W6vvNSC6h1jZ"
   },
   "source": [
    "<a id='4'></a>\n",
    "# Part 5: Backtesting Results\n",
    "Backtesting plays a key role in evaluating the performance of a trading strategy. Automated backtesting tool is preferred because it reduces the human error. We usually use the Quantopian pyfolio package to backtest our trading strategies. It is easy to use and consists of various individual plots that provide a comprehensive image of the performance of a trading strategy."
   ]
  },
  {
   "cell_type": "code",
   "metadata": {
    "id": "KeDeGAc9VrEg",
    "ExecuteTime": {
     "end_time": "2024-08-27T11:54:51.751372Z",
     "start_time": "2024-08-27T11:54:51.716370Z"
    }
   },
   "source": [
    "df_result_a2c = df_account_value_a2c.set_index(df_account_value_a2c.columns[0]) if if_using_a2c else None\n",
    "df_result_ddpg = df_account_value_ddpg.set_index(df_account_value_ddpg.columns[0]) if if_using_ddpg else None\n",
    "df_result_ppo = df_account_value_ppo.set_index(df_account_value_ppo.columns[0]) if if_using_ppo else None\n",
    "df_result_td3 = df_account_value_td3.set_index(df_account_value_td3.columns[0]) if if_using_td3 else None\n",
    "df_result_sac = df_account_value_sac.set_index(df_account_value_sac.columns[0]) if if_using_sac else None\n",
    "\n",
    "result = pd.DataFrame()\n",
    "if if_using_a2c: result = pd.merge(result, df_result_a2c, how='outer', left_index=True, right_index=True)\n",
    "if if_using_ddpg: result = pd.merge(result, df_result_ddpg, how='outer', left_index=True, right_index=True, suffixes=('', '_drop'))\n",
    "if if_using_ppo: result = pd.merge(result, df_result_ppo, how='outer', left_index=True, right_index=True, suffixes=('', '_drop'))\n",
    "if if_using_td3: result = pd.merge(result, df_result_td3, how='outer', left_index=True, right_index=True, suffixes=('', '_drop'))\n",
    "if if_using_sac: result = pd.merge(result, df_result_sac, how='outer', left_index=True, right_index=True, suffixes=('', '_drop'))\n",
    "result = pd.merge(result, MVO_result, how='outer', left_index=True, right_index=True)\n",
    "result = pd.merge(result, dji, how='outer', left_index=True, right_index=True).fillna(method='bfill')"
   ],
   "outputs": [
    {
     "name": "stderr",
     "output_type": "stream",
     "text": [
      "C:\\Users\\admin\\AppData\\Local\\Temp\\ipykernel_28296\\2771576816.py:14: FutureWarning: DataFrame.fillna with 'method' is deprecated and will raise in a future version. Use obj.ffill() or obj.bfill() instead.\n",
      "  result = pd.merge(result, dji, how='outer', left_index=True, right_index=True).fillna(method='bfill')\n"
     ]
    }
   ],
   "execution_count": 31
  },
  {
   "cell_type": "code",
   "metadata": {
    "id": "JvlTVQwsiMyx",
    "ExecuteTime": {
     "end_time": "2024-08-27T11:55:35.888120Z",
     "start_time": "2024-08-27T11:55:35.880080Z"
    }
   },
   "source": [
    "col_name = []\n",
    "col_name.append('A2C') if if_using_a2c else None\n",
    "col_name.append('DDPG') if if_using_ddpg else None\n",
    "col_name.append('PPO') if if_using_ppo else None\n",
    "col_name.append('TD3') if if_using_td3 else None\n",
    "col_name.append('SAC') if if_using_sac else None\n",
    "col_name.append('Mean Var')\n",
    "col_name.append('djia') \n",
    "result.columns = col_name"
   ],
   "outputs": [],
   "execution_count": 32
  },
  {
   "cell_type": "code",
   "metadata": {
    "colab": {
     "base_uri": "https://localhost:8080/",
     "height": 455
    },
    "id": "l4FZxyDt3XaE",
    "outputId": "2e739637-bf88-4698-9cf1-9a526452e465",
    "ExecuteTime": {
     "end_time": "2024-08-27T11:55:40.370025Z",
     "start_time": "2024-08-27T11:55:40.350780Z"
    }
   },
   "source": [
    "result"
   ],
   "outputs": [
    {
     "data": {
      "text/plain": [
       "                     A2C          DDPG           PPO           TD3  \\\n",
       "date                                                                 \n",
       "2020-07-01  1.000000e+06  1.000000e+06  1.000000e+06  1.000000e+06   \n",
       "2020-07-02  1.000449e+06  1.000411e+06  1.000216e+06  1.000742e+06   \n",
       "2020-07-06  1.007094e+06  1.007835e+06  1.001399e+06  1.005363e+06   \n",
       "2020-07-07  9.974336e+05  9.967763e+05  9.992624e+05  9.980112e+05   \n",
       "2020-07-08  1.003393e+06  1.001629e+06  1.000490e+06  1.003761e+06   \n",
       "...                  ...           ...           ...           ...   \n",
       "2021-10-22  1.470181e+06  1.422365e+06  1.304712e+06  1.320537e+06   \n",
       "2021-10-25  1.471781e+06  1.424516e+06  1.308720e+06  1.325171e+06   \n",
       "2021-10-26  1.472474e+06  1.426503e+06  1.307641e+06  1.325370e+06   \n",
       "2021-10-27  1.479440e+06  1.420845e+06  1.285685e+06  1.323585e+06   \n",
       "2021-10-28           NaN           NaN           NaN           NaN   \n",
       "\n",
       "                     SAC      Mean Var          djia  \n",
       "date                                                  \n",
       "2020-07-01  1.000000e+06  1.001917e+06  1.000000e+06  \n",
       "2020-07-02  1.000418e+06  1.004235e+06  1.021449e+06  \n",
       "2020-07-06  1.004093e+06  1.023225e+06  1.021449e+06  \n",
       "2020-07-07  9.996532e+05  1.014021e+06  1.006031e+06  \n",
       "2020-07-08  1.002885e+06  1.029461e+06  1.012912e+06  \n",
       "...                  ...           ...           ...  \n",
       "2021-10-22  1.618604e+06  1.535668e+06  1.386322e+06  \n",
       "2021-10-25  1.605715e+06  1.542078e+06  1.388813e+06  \n",
       "2021-10-26  1.600825e+06  1.545514e+06  1.389427e+06  \n",
       "2021-10-27  1.591428e+06  1.534916e+06  1.379083e+06  \n",
       "2021-10-28           NaN           NaN  1.388401e+06  \n",
       "\n",
       "[336 rows x 7 columns]"
      ],
      "text/html": [
       "<div>\n",
       "<style scoped>\n",
       "    .dataframe tbody tr th:only-of-type {\n",
       "        vertical-align: middle;\n",
       "    }\n",
       "\n",
       "    .dataframe tbody tr th {\n",
       "        vertical-align: top;\n",
       "    }\n",
       "\n",
       "    .dataframe thead th {\n",
       "        text-align: right;\n",
       "    }\n",
       "</style>\n",
       "<table border=\"1\" class=\"dataframe\">\n",
       "  <thead>\n",
       "    <tr style=\"text-align: right;\">\n",
       "      <th></th>\n",
       "      <th>A2C</th>\n",
       "      <th>DDPG</th>\n",
       "      <th>PPO</th>\n",
       "      <th>TD3</th>\n",
       "      <th>SAC</th>\n",
       "      <th>Mean Var</th>\n",
       "      <th>djia</th>\n",
       "    </tr>\n",
       "    <tr>\n",
       "      <th>date</th>\n",
       "      <th></th>\n",
       "      <th></th>\n",
       "      <th></th>\n",
       "      <th></th>\n",
       "      <th></th>\n",
       "      <th></th>\n",
       "      <th></th>\n",
       "    </tr>\n",
       "  </thead>\n",
       "  <tbody>\n",
       "    <tr>\n",
       "      <th>2020-07-01</th>\n",
       "      <td>1.000000e+06</td>\n",
       "      <td>1.000000e+06</td>\n",
       "      <td>1.000000e+06</td>\n",
       "      <td>1.000000e+06</td>\n",
       "      <td>1.000000e+06</td>\n",
       "      <td>1.001917e+06</td>\n",
       "      <td>1.000000e+06</td>\n",
       "    </tr>\n",
       "    <tr>\n",
       "      <th>2020-07-02</th>\n",
       "      <td>1.000449e+06</td>\n",
       "      <td>1.000411e+06</td>\n",
       "      <td>1.000216e+06</td>\n",
       "      <td>1.000742e+06</td>\n",
       "      <td>1.000418e+06</td>\n",
       "      <td>1.004235e+06</td>\n",
       "      <td>1.021449e+06</td>\n",
       "    </tr>\n",
       "    <tr>\n",
       "      <th>2020-07-06</th>\n",
       "      <td>1.007094e+06</td>\n",
       "      <td>1.007835e+06</td>\n",
       "      <td>1.001399e+06</td>\n",
       "      <td>1.005363e+06</td>\n",
       "      <td>1.004093e+06</td>\n",
       "      <td>1.023225e+06</td>\n",
       "      <td>1.021449e+06</td>\n",
       "    </tr>\n",
       "    <tr>\n",
       "      <th>2020-07-07</th>\n",
       "      <td>9.974336e+05</td>\n",
       "      <td>9.967763e+05</td>\n",
       "      <td>9.992624e+05</td>\n",
       "      <td>9.980112e+05</td>\n",
       "      <td>9.996532e+05</td>\n",
       "      <td>1.014021e+06</td>\n",
       "      <td>1.006031e+06</td>\n",
       "    </tr>\n",
       "    <tr>\n",
       "      <th>2020-07-08</th>\n",
       "      <td>1.003393e+06</td>\n",
       "      <td>1.001629e+06</td>\n",
       "      <td>1.000490e+06</td>\n",
       "      <td>1.003761e+06</td>\n",
       "      <td>1.002885e+06</td>\n",
       "      <td>1.029461e+06</td>\n",
       "      <td>1.012912e+06</td>\n",
       "    </tr>\n",
       "    <tr>\n",
       "      <th>...</th>\n",
       "      <td>...</td>\n",
       "      <td>...</td>\n",
       "      <td>...</td>\n",
       "      <td>...</td>\n",
       "      <td>...</td>\n",
       "      <td>...</td>\n",
       "      <td>...</td>\n",
       "    </tr>\n",
       "    <tr>\n",
       "      <th>2021-10-22</th>\n",
       "      <td>1.470181e+06</td>\n",
       "      <td>1.422365e+06</td>\n",
       "      <td>1.304712e+06</td>\n",
       "      <td>1.320537e+06</td>\n",
       "      <td>1.618604e+06</td>\n",
       "      <td>1.535668e+06</td>\n",
       "      <td>1.386322e+06</td>\n",
       "    </tr>\n",
       "    <tr>\n",
       "      <th>2021-10-25</th>\n",
       "      <td>1.471781e+06</td>\n",
       "      <td>1.424516e+06</td>\n",
       "      <td>1.308720e+06</td>\n",
       "      <td>1.325171e+06</td>\n",
       "      <td>1.605715e+06</td>\n",
       "      <td>1.542078e+06</td>\n",
       "      <td>1.388813e+06</td>\n",
       "    </tr>\n",
       "    <tr>\n",
       "      <th>2021-10-26</th>\n",
       "      <td>1.472474e+06</td>\n",
       "      <td>1.426503e+06</td>\n",
       "      <td>1.307641e+06</td>\n",
       "      <td>1.325370e+06</td>\n",
       "      <td>1.600825e+06</td>\n",
       "      <td>1.545514e+06</td>\n",
       "      <td>1.389427e+06</td>\n",
       "    </tr>\n",
       "    <tr>\n",
       "      <th>2021-10-27</th>\n",
       "      <td>1.479440e+06</td>\n",
       "      <td>1.420845e+06</td>\n",
       "      <td>1.285685e+06</td>\n",
       "      <td>1.323585e+06</td>\n",
       "      <td>1.591428e+06</td>\n",
       "      <td>1.534916e+06</td>\n",
       "      <td>1.379083e+06</td>\n",
       "    </tr>\n",
       "    <tr>\n",
       "      <th>2021-10-28</th>\n",
       "      <td>NaN</td>\n",
       "      <td>NaN</td>\n",
       "      <td>NaN</td>\n",
       "      <td>NaN</td>\n",
       "      <td>NaN</td>\n",
       "      <td>NaN</td>\n",
       "      <td>1.388401e+06</td>\n",
       "    </tr>\n",
       "  </tbody>\n",
       "</table>\n",
       "<p>336 rows × 7 columns</p>\n",
       "</div>"
      ]
     },
     "execution_count": 33,
     "metadata": {},
     "output_type": "execute_result"
    }
   ],
   "execution_count": 33
  },
  {
   "cell_type": "markdown",
   "metadata": {
    "id": "QQuc5hI9Yklt"
   },
   "source": [
    "Now, everything is ready, we can plot the backtest result."
   ]
  },
  {
   "cell_type": "code",
   "metadata": {
    "colab": {
     "base_uri": "https://localhost:8080/",
     "height": 381
    },
    "id": "6xRfrqK4RVfq",
    "outputId": "469c9729-fd57-417c-9b13-2243426923e2",
    "ExecuteTime": {
     "end_time": "2024-08-27T11:55:42.647008Z",
     "start_time": "2024-08-27T11:55:42.281848Z"
    }
   },
   "source": [
    "plt.rcParams[\"figure.figsize\"] = (15,5)\n",
    "plt.figure()\n",
    "result.plot()"
   ],
   "outputs": [
    {
     "data": {
      "text/plain": [
       "<Axes: xlabel='date'>"
      ]
     },
     "execution_count": 34,
     "metadata": {},
     "output_type": "execute_result"
    },
    {
     "data": {
      "text/plain": [
       "<Figure size 1500x500 with 0 Axes>"
      ]
     },
     "metadata": {},
     "output_type": "display_data"
    },
    {
     "data": {
      "text/plain": [
       "<Figure size 1500x500 with 1 Axes>"
      ],
      "image/png": "[encoded data removed]"
     },
     "metadata": {},
     "output_type": "display_data"
    }
   ],
   "execution_count": 34
  }
 ],
 "metadata": {
  "colab": {
   "collapsed_sections": [
    "GfZ5vY5wRjkJ"
   ],
   "provenance": []
  },
  "kernelspec": {
   "display_name": "Python 3 (ipykernel)",
   "name": "python3",
   "language": "python"
  },
  "language_info": {
   "codemirror_mode": {
    "name": "ipython",
    "version": 3
   },
   "file_extension": ".py",
   "mimetype": "text/x-python",
   "name": "python",
   "nbconvert_exporter": "python",
   "pygments_lexer": "ipython3",
   "version": "3.10.13"
  }
 },
 "nbformat": 4,
 "nbformat_minor": 0
}
